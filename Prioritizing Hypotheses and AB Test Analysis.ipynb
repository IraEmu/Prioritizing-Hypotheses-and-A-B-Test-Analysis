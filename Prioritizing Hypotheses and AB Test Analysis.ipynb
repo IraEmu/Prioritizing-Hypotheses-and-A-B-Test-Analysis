{
 "cells": [
  {
   "cell_type": "markdown",
   "id": "6be8cb2d",
   "metadata": {},
   "source": [
    "# Prioritizing Hypotheses and A/B Test Analysis"
   ]
  },
  {
   "cell_type": "markdown",
   "id": "36bc9b68",
   "metadata": {},
   "source": [
    "## Project description"
   ]
  },
  {
   "cell_type": "markdown",
   "id": "70185fa8",
   "metadata": {},
   "source": [
    "The goal of this project for an analyst in  big online store is to support decision making together with the marketing department to boost revenue. \n",
    "Tasks are basing on data about visits, orders and hypotheses:\n",
    "- make data assesment\n",
    "- prioritize these hypotheses\n",
    "- launch an A/B test\n",
    "- analyze the results\n",
    "- provide recommendations"
   ]
  },
  {
   "cell_type": "markdown",
   "id": "cc579209",
   "metadata": {},
   "source": [
    "## Part 1. Prioritizing Hypotheses\n",
    "The file hypotheses_us.csv contains nine hypotheses on boosting an online store's revenue with Reach, Impact, Confidence, and Effort specified for each.\n",
    "The task is to:\n",
    "* \t\tApply the ICE framework to prioritize hypotheses. Sort them in descending order of priority.\n",
    "* \t\tApply the RICE framework to prioritize hypotheses. Sort them in descending order of priority.\n",
    "* \t\tShow how the prioritization of hypotheses changes when you use RICE instead of ICE. Provide an explanation for the changes.\n"
   ]
  },
  {
   "cell_type": "code",
   "execution_count": 1,
   "id": "5228df40",
   "metadata": {},
   "outputs": [],
   "source": [
    "!pip install -Uq seaborn --user\n",
    "!pip install -Uq plotly --user"
   ]
  },
  {
   "cell_type": "code",
   "execution_count": 2,
   "id": "376331bf",
   "metadata": {},
   "outputs": [],
   "source": [
    "import pandas as pd\n",
    "import numpy as np\n",
    "from datetime import datetime\n",
    "import seaborn as sns\n",
    "import matplotlib.pyplot as plt"
   ]
  },
  {
   "cell_type": "code",
   "execution_count": 3,
   "id": "16bff228",
   "metadata": {
    "scrolled": true
   },
   "outputs": [],
   "source": [
    "import plotly.express as px\n",
    "import plotly.graph_objects as go"
   ]
  },
  {
   "cell_type": "code",
   "execution_count": 4,
   "id": "2f5c4964",
   "metadata": {},
   "outputs": [],
   "source": [
    "import math\n",
    "from scipy import stats"
   ]
  },
  {
   "cell_type": "code",
   "execution_count": 5,
   "id": "4d25bd84",
   "metadata": {},
   "outputs": [],
   "source": [
    "#customizing the dataframe so that the hypotheses are fully displayed\n",
    "pd.set_option('max_colwidth', 400)"
   ]
  },
  {
   "cell_type": "code",
   "execution_count": 6,
   "id": "b9ae86f6",
   "metadata": {},
   "outputs": [],
   "source": [
    "dfh = pd.read_csv('hypotheses_us.csv',  sep=';')"
   ]
  },
  {
   "cell_type": "code",
   "execution_count": 7,
   "id": "06ca487b",
   "metadata": {},
   "outputs": [
    {
     "data": {
      "text/html": [
       "<div>\n",
       "<style scoped>\n",
       "    .dataframe tbody tr th:only-of-type {\n",
       "        vertical-align: middle;\n",
       "    }\n",
       "\n",
       "    .dataframe tbody tr th {\n",
       "        vertical-align: top;\n",
       "    }\n",
       "\n",
       "    .dataframe thead th {\n",
       "        text-align: right;\n",
       "    }\n",
       "</style>\n",
       "<table border=\"1\" class=\"dataframe\">\n",
       "  <thead>\n",
       "    <tr style=\"text-align: right;\">\n",
       "      <th></th>\n",
       "      <th>Hypothesis</th>\n",
       "      <th>Reach</th>\n",
       "      <th>Impact</th>\n",
       "      <th>Confidence</th>\n",
       "      <th>Effort</th>\n",
       "    </tr>\n",
       "  </thead>\n",
       "  <tbody>\n",
       "    <tr>\n",
       "      <th>0</th>\n",
       "      <td>Add two new channels for attracting traffic. This will bring 30% more users</td>\n",
       "      <td>3</td>\n",
       "      <td>10</td>\n",
       "      <td>8</td>\n",
       "      <td>6</td>\n",
       "    </tr>\n",
       "    <tr>\n",
       "      <th>1</th>\n",
       "      <td>Launch your own delivery service. This will shorten delivery time</td>\n",
       "      <td>2</td>\n",
       "      <td>5</td>\n",
       "      <td>4</td>\n",
       "      <td>10</td>\n",
       "    </tr>\n",
       "    <tr>\n",
       "      <th>2</th>\n",
       "      <td>Add product recommendation blocks to the store's site. This will increase conversion and average purchase size</td>\n",
       "      <td>8</td>\n",
       "      <td>3</td>\n",
       "      <td>7</td>\n",
       "      <td>3</td>\n",
       "    </tr>\n",
       "    <tr>\n",
       "      <th>3</th>\n",
       "      <td>Change the category structure. This will increase conversion since users will find the products they want more quickly</td>\n",
       "      <td>8</td>\n",
       "      <td>3</td>\n",
       "      <td>3</td>\n",
       "      <td>8</td>\n",
       "    </tr>\n",
       "    <tr>\n",
       "      <th>4</th>\n",
       "      <td>Change the background color on the main page. This will increase user engagement</td>\n",
       "      <td>3</td>\n",
       "      <td>1</td>\n",
       "      <td>1</td>\n",
       "      <td>1</td>\n",
       "    </tr>\n",
       "    <tr>\n",
       "      <th>5</th>\n",
       "      <td>Add a customer review page. This will increase the number of orders</td>\n",
       "      <td>3</td>\n",
       "      <td>2</td>\n",
       "      <td>2</td>\n",
       "      <td>3</td>\n",
       "    </tr>\n",
       "    <tr>\n",
       "      <th>6</th>\n",
       "      <td>Show banners with current offers and sales on the main page. This will boost conversion</td>\n",
       "      <td>5</td>\n",
       "      <td>3</td>\n",
       "      <td>8</td>\n",
       "      <td>3</td>\n",
       "    </tr>\n",
       "    <tr>\n",
       "      <th>7</th>\n",
       "      <td>Add a subscription form to all the main pages. This will help you compile a mailing list</td>\n",
       "      <td>10</td>\n",
       "      <td>7</td>\n",
       "      <td>8</td>\n",
       "      <td>5</td>\n",
       "    </tr>\n",
       "    <tr>\n",
       "      <th>8</th>\n",
       "      <td>Launch a promotion that gives users discounts on their birthdays</td>\n",
       "      <td>1</td>\n",
       "      <td>9</td>\n",
       "      <td>9</td>\n",
       "      <td>5</td>\n",
       "    </tr>\n",
       "  </tbody>\n",
       "</table>\n",
       "</div>"
      ],
      "text/plain": [
       "                                                                                                               Hypothesis  \\\n",
       "0                                             Add two new channels for attracting traffic. This will bring 30% more users   \n",
       "1                                                       Launch your own delivery service. This will shorten delivery time   \n",
       "2          Add product recommendation blocks to the store's site. This will increase conversion and average purchase size   \n",
       "3  Change the category structure. This will increase conversion since users will find the products they want more quickly   \n",
       "4                                        Change the background color on the main page. This will increase user engagement   \n",
       "5                                                     Add a customer review page. This will increase the number of orders   \n",
       "6                                 Show banners with current offers and sales on the main page. This will boost conversion   \n",
       "7                                Add a subscription form to all the main pages. This will help you compile a mailing list   \n",
       "8                                                        Launch a promotion that gives users discounts on their birthdays   \n",
       "\n",
       "   Reach  Impact  Confidence  Effort  \n",
       "0      3      10           8       6  \n",
       "1      2       5           4      10  \n",
       "2      8       3           7       3  \n",
       "3      8       3           3       8  \n",
       "4      3       1           1       1  \n",
       "5      3       2           2       3  \n",
       "6      5       3           8       3  \n",
       "7     10       7           8       5  \n",
       "8      1       9           9       5  "
      ]
     },
     "execution_count": 7,
     "metadata": {},
     "output_type": "execute_result"
    }
   ],
   "source": [
    "dfh"
   ]
  },
  {
   "cell_type": "markdown",
   "id": "dd17c3ea",
   "metadata": {},
   "source": [
    "### Apply the ICE framework to prioritize hypotheses. Sort them in descending order of priority."
   ]
  },
  {
   "cell_type": "code",
   "execution_count": 8,
   "id": "6d156ae7",
   "metadata": {},
   "outputs": [],
   "source": [
    "dfh['ICE'] = (dfh['Impact'] * dfh['Confidence']) / dfh['Effort']"
   ]
  },
  {
   "cell_type": "code",
   "execution_count": 9,
   "id": "e1585dc4",
   "metadata": {},
   "outputs": [
    {
     "data": {
      "text/html": [
       "<div>\n",
       "<style scoped>\n",
       "    .dataframe tbody tr th:only-of-type {\n",
       "        vertical-align: middle;\n",
       "    }\n",
       "\n",
       "    .dataframe tbody tr th {\n",
       "        vertical-align: top;\n",
       "    }\n",
       "\n",
       "    .dataframe thead th {\n",
       "        text-align: right;\n",
       "    }\n",
       "</style>\n",
       "<table border=\"1\" class=\"dataframe\">\n",
       "  <thead>\n",
       "    <tr style=\"text-align: right;\">\n",
       "      <th></th>\n",
       "      <th>Hypothesis</th>\n",
       "      <th>ICE</th>\n",
       "    </tr>\n",
       "  </thead>\n",
       "  <tbody>\n",
       "    <tr>\n",
       "      <th>8</th>\n",
       "      <td>Launch a promotion that gives users discounts on their birthdays</td>\n",
       "      <td>16.200000</td>\n",
       "    </tr>\n",
       "    <tr>\n",
       "      <th>0</th>\n",
       "      <td>Add two new channels for attracting traffic. This will bring 30% more users</td>\n",
       "      <td>13.333333</td>\n",
       "    </tr>\n",
       "    <tr>\n",
       "      <th>7</th>\n",
       "      <td>Add a subscription form to all the main pages. This will help you compile a mailing list</td>\n",
       "      <td>11.200000</td>\n",
       "    </tr>\n",
       "    <tr>\n",
       "      <th>6</th>\n",
       "      <td>Show banners with current offers and sales on the main page. This will boost conversion</td>\n",
       "      <td>8.000000</td>\n",
       "    </tr>\n",
       "    <tr>\n",
       "      <th>2</th>\n",
       "      <td>Add product recommendation blocks to the store's site. This will increase conversion and average purchase size</td>\n",
       "      <td>7.000000</td>\n",
       "    </tr>\n",
       "    <tr>\n",
       "      <th>1</th>\n",
       "      <td>Launch your own delivery service. This will shorten delivery time</td>\n",
       "      <td>2.000000</td>\n",
       "    </tr>\n",
       "    <tr>\n",
       "      <th>5</th>\n",
       "      <td>Add a customer review page. This will increase the number of orders</td>\n",
       "      <td>1.333333</td>\n",
       "    </tr>\n",
       "    <tr>\n",
       "      <th>3</th>\n",
       "      <td>Change the category structure. This will increase conversion since users will find the products they want more quickly</td>\n",
       "      <td>1.125000</td>\n",
       "    </tr>\n",
       "    <tr>\n",
       "      <th>4</th>\n",
       "      <td>Change the background color on the main page. This will increase user engagement</td>\n",
       "      <td>1.000000</td>\n",
       "    </tr>\n",
       "  </tbody>\n",
       "</table>\n",
       "</div>"
      ],
      "text/plain": [
       "                                                                                                               Hypothesis  \\\n",
       "8                                                        Launch a promotion that gives users discounts on their birthdays   \n",
       "0                                             Add two new channels for attracting traffic. This will bring 30% more users   \n",
       "7                                Add a subscription form to all the main pages. This will help you compile a mailing list   \n",
       "6                                 Show banners with current offers and sales on the main page. This will boost conversion   \n",
       "2          Add product recommendation blocks to the store's site. This will increase conversion and average purchase size   \n",
       "1                                                       Launch your own delivery service. This will shorten delivery time   \n",
       "5                                                     Add a customer review page. This will increase the number of orders   \n",
       "3  Change the category structure. This will increase conversion since users will find the products they want more quickly   \n",
       "4                                        Change the background color on the main page. This will increase user engagement   \n",
       "\n",
       "         ICE  \n",
       "8  16.200000  \n",
       "0  13.333333  \n",
       "7  11.200000  \n",
       "6   8.000000  \n",
       "2   7.000000  \n",
       "1   2.000000  \n",
       "5   1.333333  \n",
       "3   1.125000  \n",
       "4   1.000000  "
      ]
     },
     "execution_count": 9,
     "metadata": {},
     "output_type": "execute_result"
    }
   ],
   "source": [
    "dfh[['Hypothesis', 'ICE']].sort_values(by='ICE', ascending=False)"
   ]
  },
  {
   "cell_type": "markdown",
   "id": "60839dcd",
   "metadata": {},
   "source": [
    "Hypothesis 'Launch a promotion that gives users discounts on their birthdays' and 'Add two new channels for attracting traffic. This will bring 30% more users' as they have high levels of impact and confidence with medium effort. 'Add a subscription form to all the main pages. This will help you compile a mailing list' goes third."
   ]
  },
  {
   "cell_type": "markdown",
   "id": "89ca4643",
   "metadata": {},
   "source": [
    "### Apply the RICE framework to prioritize hypotheses. Sort them in descending order of priority."
   ]
  },
  {
   "cell_type": "code",
   "execution_count": 10,
   "id": "81d36be8",
   "metadata": {
    "scrolled": true
   },
   "outputs": [],
   "source": [
    "dfh['RICE'] = (dfh['Reach'] * dfh['Impact'] * dfh['Confidence']) / dfh['Effort']"
   ]
  },
  {
   "cell_type": "code",
   "execution_count": 11,
   "id": "7c03de2f",
   "metadata": {},
   "outputs": [
    {
     "data": {
      "text/html": [
       "<div>\n",
       "<style scoped>\n",
       "    .dataframe tbody tr th:only-of-type {\n",
       "        vertical-align: middle;\n",
       "    }\n",
       "\n",
       "    .dataframe tbody tr th {\n",
       "        vertical-align: top;\n",
       "    }\n",
       "\n",
       "    .dataframe thead th {\n",
       "        text-align: right;\n",
       "    }\n",
       "</style>\n",
       "<table border=\"1\" class=\"dataframe\">\n",
       "  <thead>\n",
       "    <tr style=\"text-align: right;\">\n",
       "      <th></th>\n",
       "      <th>Hypothesis</th>\n",
       "      <th>RICE</th>\n",
       "    </tr>\n",
       "  </thead>\n",
       "  <tbody>\n",
       "    <tr>\n",
       "      <th>7</th>\n",
       "      <td>Add a subscription form to all the main pages. This will help you compile a mailing list</td>\n",
       "      <td>112.0</td>\n",
       "    </tr>\n",
       "    <tr>\n",
       "      <th>2</th>\n",
       "      <td>Add product recommendation blocks to the store's site. This will increase conversion and average purchase size</td>\n",
       "      <td>56.0</td>\n",
       "    </tr>\n",
       "    <tr>\n",
       "      <th>0</th>\n",
       "      <td>Add two new channels for attracting traffic. This will bring 30% more users</td>\n",
       "      <td>40.0</td>\n",
       "    </tr>\n",
       "    <tr>\n",
       "      <th>6</th>\n",
       "      <td>Show banners with current offers and sales on the main page. This will boost conversion</td>\n",
       "      <td>40.0</td>\n",
       "    </tr>\n",
       "    <tr>\n",
       "      <th>8</th>\n",
       "      <td>Launch a promotion that gives users discounts on their birthdays</td>\n",
       "      <td>16.2</td>\n",
       "    </tr>\n",
       "    <tr>\n",
       "      <th>3</th>\n",
       "      <td>Change the category structure. This will increase conversion since users will find the products they want more quickly</td>\n",
       "      <td>9.0</td>\n",
       "    </tr>\n",
       "    <tr>\n",
       "      <th>1</th>\n",
       "      <td>Launch your own delivery service. This will shorten delivery time</td>\n",
       "      <td>4.0</td>\n",
       "    </tr>\n",
       "    <tr>\n",
       "      <th>5</th>\n",
       "      <td>Add a customer review page. This will increase the number of orders</td>\n",
       "      <td>4.0</td>\n",
       "    </tr>\n",
       "    <tr>\n",
       "      <th>4</th>\n",
       "      <td>Change the background color on the main page. This will increase user engagement</td>\n",
       "      <td>3.0</td>\n",
       "    </tr>\n",
       "  </tbody>\n",
       "</table>\n",
       "</div>"
      ],
      "text/plain": [
       "                                                                                                               Hypothesis  \\\n",
       "7                                Add a subscription form to all the main pages. This will help you compile a mailing list   \n",
       "2          Add product recommendation blocks to the store's site. This will increase conversion and average purchase size   \n",
       "0                                             Add two new channels for attracting traffic. This will bring 30% more users   \n",
       "6                                 Show banners with current offers and sales on the main page. This will boost conversion   \n",
       "8                                                        Launch a promotion that gives users discounts on their birthdays   \n",
       "3  Change the category structure. This will increase conversion since users will find the products they want more quickly   \n",
       "1                                                       Launch your own delivery service. This will shorten delivery time   \n",
       "5                                                     Add a customer review page. This will increase the number of orders   \n",
       "4                                        Change the background color on the main page. This will increase user engagement   \n",
       "\n",
       "    RICE  \n",
       "7  112.0  \n",
       "2   56.0  \n",
       "0   40.0  \n",
       "6   40.0  \n",
       "8   16.2  \n",
       "3    9.0  \n",
       "1    4.0  \n",
       "5    4.0  \n",
       "4    3.0  "
      ]
     },
     "execution_count": 11,
     "metadata": {},
     "output_type": "execute_result"
    }
   ],
   "source": [
    "dfh[['Hypothesis', 'RICE']].sort_values(by ='RICE', ascending=False)"
   ]
  },
  {
   "cell_type": "markdown",
   "id": "7885b794",
   "metadata": {},
   "source": [
    "In RICE, comparing to ICE, hypothesis 'Add a subscription form to all the main pages. This will help you compile a mailing list' moving up from 3rd to 1st place with a big difference, almost twice higher score (112 and 56 accordingly). At the same time, hypothesis 'Launch a promotion that gives users discounts on their birthdays' has score 7 times less (16,2), because of low reach score."
   ]
  },
  {
   "cell_type": "markdown",
   "id": "ef0b89d8",
   "metadata": {},
   "source": [
    "### Show how the prioritization of hypotheses changes when you use RICE instead of ICE. Provide an explanation for the changes."
   ]
  },
  {
   "cell_type": "code",
   "execution_count": 12,
   "id": "e973a234",
   "metadata": {},
   "outputs": [
    {
     "data": {
      "image/png": "[encoded data removed]",
      "text/plain": [
       "<Figure size 432x288 with 1 Axes>"
      ]
     },
     "metadata": {
      "needs_background": "light"
     },
     "output_type": "display_data"
    },
    {
     "data": {
      "image/png": "[encoded data removed]",
      "text/plain": [
       "<Figure size 432x288 with 1 Axes>"
      ]
     },
     "metadata": {
      "needs_background": "light"
     },
     "output_type": "display_data"
    }
   ],
   "source": [
    "dfh[['Hypothesis', 'ICE']].plot(y='ICE')\n",
    "dfh[['Hypothesis', 'RICE']].plot(y='RICE')\n",
    "plt.show()"
   ]
  },
  {
   "cell_type": "markdown",
   "id": "aceb683f",
   "metadata": {},
   "source": [
    "Prioritization of hypotheses changes significanlty depending on the level reach score, the main difference between two approaches (ICE and RICE). Some hypotheses like 1, 3-5 have low scores in both frameworks."
   ]
  },
  {
   "cell_type": "code",
   "execution_count": 13,
   "id": "52c59357",
   "metadata": {},
   "outputs": [
    {
     "data": {
      "image/png": "[encoded data removed]",
      "text/plain": [
       "<Figure size 720x432 with 1 Axes>"
      ]
     },
     "metadata": {
      "needs_background": "light"
     },
     "output_type": "display_data"
    }
   ],
   "source": [
    "plt.figure(figsize=(10,6))\n",
    "plt.title('ICE and RICE', size=15)\n",
    "sns.scatterplot(x=dfh['ICE'], y=dfh['RICE'])\n",
    "for line in range(0,dfh.shape[0]):\n",
    "     plt.text(dfh.ICE[line]+0.2, \n",
    "              dfh.RICE[line], \n",
    "              dfh.index[line], \n",
    "              horizontalalignment='left', size='large', color='black', weight='bold')\n",
    "plt.show()"
   ]
  },
  {
   "cell_type": "markdown",
   "id": "164120ac",
   "metadata": {},
   "source": [
    "## Part 2. A/B Test Analysis\n",
    "You carried out an A/B test and got the results described in the files orders_us.csv and visits_us.csv.\n",
    "Task\n",
    "Analyze the A/B test:\n",
    "* \t\tGraph cumulative revenue by group. Make conclusions and conjectures.\n",
    "* \t\tGraph cumulative average order size by group. Make conclusions and conjectures.\n",
    "* \t\tGraph the relative difference in cumulative average order size for group B compared with group A. Make conclusions and conjectures.\n",
    "* \t\tCalculate each group's conversion rate as the ratio of orders to the number of visits for each day. Plot the daily conversion rates of the two groups and describe the difference. Draw conclusions and make conjectures.\n",
    "* \t\tPlot a scatter chart of the number of orders per user. Make conclusions and conjectures.\n",
    "* \t\tCalculate the 95th and 99th percentiles for the number of orders per user. Define the point at which a data point becomes an anomaly.\n",
    "* \t\tPlot a scatter chart of order prices. Make conclusions and conjectures.\n",
    "* \t\tCalculate the 95th and 99th percentiles of order prices. Define the point at which a data point becomes an anomaly.\n",
    "* \t\tFind the statistical significance of the difference in conversion between the groups using the raw data. Make conclusions and conjectures.\n",
    "* \t\tFind the statistical significance of the difference in average order size between the groups using the raw data. Make conclusions and conjectures.\n",
    "* \t\tFind the statistical significance of the difference in conversion between the groups using the filtered data. Make conclusions and conjectures.\n",
    "* \t\tFind the statistical significance of the difference in average order size between the groups using the filtered data. Make conclusions and conjectures.\n",
    "* \t\tMake a decision based on the test results. The possible decisions are: 1. Stop the test, consider one of the groups the leader. 2. Stop the test, conclude that there is no difference between the groups. 3. Continue the test."
   ]
  },
  {
   "cell_type": "code",
   "execution_count": 14,
   "id": "0c0b7222",
   "metadata": {},
   "outputs": [],
   "source": [
    "df_o = pd.read_csv('orders_us.csv', sep=',')"
   ]
  },
  {
   "cell_type": "code",
   "execution_count": 15,
   "id": "91e90719",
   "metadata": {
    "scrolled": true
   },
   "outputs": [
    {
     "data": {
      "text/html": [
       "<div>\n",
       "<style scoped>\n",
       "    .dataframe tbody tr th:only-of-type {\n",
       "        vertical-align: middle;\n",
       "    }\n",
       "\n",
       "    .dataframe tbody tr th {\n",
       "        vertical-align: top;\n",
       "    }\n",
       "\n",
       "    .dataframe thead th {\n",
       "        text-align: right;\n",
       "    }\n",
       "</style>\n",
       "<table border=\"1\" class=\"dataframe\">\n",
       "  <thead>\n",
       "    <tr style=\"text-align: right;\">\n",
       "      <th></th>\n",
       "      <th>transactionId</th>\n",
       "      <th>visitorId</th>\n",
       "      <th>date</th>\n",
       "      <th>revenue</th>\n",
       "      <th>group</th>\n",
       "    </tr>\n",
       "  </thead>\n",
       "  <tbody>\n",
       "    <tr>\n",
       "      <th>0</th>\n",
       "      <td>3667963787</td>\n",
       "      <td>3312258926</td>\n",
       "      <td>2019-08-15</td>\n",
       "      <td>30.4</td>\n",
       "      <td>B</td>\n",
       "    </tr>\n",
       "    <tr>\n",
       "      <th>1</th>\n",
       "      <td>2804400009</td>\n",
       "      <td>3642806036</td>\n",
       "      <td>2019-08-15</td>\n",
       "      <td>15.2</td>\n",
       "      <td>B</td>\n",
       "    </tr>\n",
       "    <tr>\n",
       "      <th>2</th>\n",
       "      <td>2961555356</td>\n",
       "      <td>4069496402</td>\n",
       "      <td>2019-08-15</td>\n",
       "      <td>10.2</td>\n",
       "      <td>A</td>\n",
       "    </tr>\n",
       "    <tr>\n",
       "      <th>3</th>\n",
       "      <td>3797467345</td>\n",
       "      <td>1196621759</td>\n",
       "      <td>2019-08-15</td>\n",
       "      <td>155.1</td>\n",
       "      <td>B</td>\n",
       "    </tr>\n",
       "    <tr>\n",
       "      <th>4</th>\n",
       "      <td>2282983706</td>\n",
       "      <td>2322279887</td>\n",
       "      <td>2019-08-15</td>\n",
       "      <td>40.5</td>\n",
       "      <td>B</td>\n",
       "    </tr>\n",
       "  </tbody>\n",
       "</table>\n",
       "</div>"
      ],
      "text/plain": [
       "   transactionId   visitorId        date  revenue group\n",
       "0     3667963787  3312258926  2019-08-15     30.4     B\n",
       "1     2804400009  3642806036  2019-08-15     15.2     B\n",
       "2     2961555356  4069496402  2019-08-15     10.2     A\n",
       "3     3797467345  1196621759  2019-08-15    155.1     B\n",
       "4     2282983706  2322279887  2019-08-15     40.5     B"
      ]
     },
     "execution_count": 15,
     "metadata": {},
     "output_type": "execute_result"
    }
   ],
   "source": [
    "df_o.head()"
   ]
  },
  {
   "cell_type": "code",
   "execution_count": 16,
   "id": "b4cd93a9",
   "metadata": {
    "scrolled": false
   },
   "outputs": [
    {
     "name": "stdout",
     "output_type": "stream",
     "text": [
      "<class 'pandas.core.frame.DataFrame'>\n",
      "RangeIndex: 1197 entries, 0 to 1196\n",
      "Data columns (total 5 columns):\n",
      " #   Column         Non-Null Count  Dtype  \n",
      "---  ------         --------------  -----  \n",
      " 0   transactionId  1197 non-null   int64  \n",
      " 1   visitorId      1197 non-null   int64  \n",
      " 2   date           1197 non-null   object \n",
      " 3   revenue        1197 non-null   float64\n",
      " 4   group          1197 non-null   object \n",
      "dtypes: float64(1), int64(2), object(2)\n",
      "memory usage: 46.9+ KB\n"
     ]
    }
   ],
   "source": [
    "df_o.info()"
   ]
  },
  {
   "cell_type": "code",
   "execution_count": 17,
   "id": "abd2cc89",
   "metadata": {},
   "outputs": [
    {
     "data": {
      "text/html": [
       "<div>\n",
       "<style scoped>\n",
       "    .dataframe tbody tr th:only-of-type {\n",
       "        vertical-align: middle;\n",
       "    }\n",
       "\n",
       "    .dataframe tbody tr th {\n",
       "        vertical-align: top;\n",
       "    }\n",
       "\n",
       "    .dataframe thead th {\n",
       "        text-align: right;\n",
       "    }\n",
       "</style>\n",
       "<table border=\"1\" class=\"dataframe\">\n",
       "  <thead>\n",
       "    <tr style=\"text-align: right;\">\n",
       "      <th></th>\n",
       "      <th>date</th>\n",
       "    </tr>\n",
       "    <tr>\n",
       "      <th>group</th>\n",
       "      <th></th>\n",
       "    </tr>\n",
       "  </thead>\n",
       "  <tbody>\n",
       "    <tr>\n",
       "      <th>A</th>\n",
       "      <td>557</td>\n",
       "    </tr>\n",
       "    <tr>\n",
       "      <th>B</th>\n",
       "      <td>640</td>\n",
       "    </tr>\n",
       "  </tbody>\n",
       "</table>\n",
       "</div>"
      ],
      "text/plain": [
       "       date\n",
       "group      \n",
       "A       557\n",
       "B       640"
      ]
     },
     "execution_count": 17,
     "metadata": {},
     "output_type": "execute_result"
    }
   ],
   "source": [
    "df_o.pivot_table(index='group', values='date', aggfunc='count')"
   ]
  },
  {
   "cell_type": "code",
   "execution_count": 18,
   "id": "cf92ba23",
   "metadata": {
    "scrolled": true
   },
   "outputs": [
    {
     "data": {
      "text/html": [
       "<div>\n",
       "<style scoped>\n",
       "    .dataframe tbody tr th:only-of-type {\n",
       "        vertical-align: middle;\n",
       "    }\n",
       "\n",
       "    .dataframe tbody tr th {\n",
       "        vertical-align: top;\n",
       "    }\n",
       "\n",
       "    .dataframe thead th {\n",
       "        text-align: right;\n",
       "    }\n",
       "</style>\n",
       "<table border=\"1\" class=\"dataframe\">\n",
       "  <thead>\n",
       "    <tr style=\"text-align: right;\">\n",
       "      <th></th>\n",
       "      <th>group</th>\n",
       "    </tr>\n",
       "    <tr>\n",
       "      <th>transactionId</th>\n",
       "      <th></th>\n",
       "    </tr>\n",
       "  </thead>\n",
       "  <tbody>\n",
       "    <tr>\n",
       "      <th>1062393</th>\n",
       "      <td>1</td>\n",
       "    </tr>\n",
       "    <tr>\n",
       "      <th>2883105032</th>\n",
       "      <td>1</td>\n",
       "    </tr>\n",
       "    <tr>\n",
       "      <th>2875229767</th>\n",
       "      <td>1</td>\n",
       "    </tr>\n",
       "    <tr>\n",
       "      <th>2872509092</th>\n",
       "      <td>1</td>\n",
       "    </tr>\n",
       "    <tr>\n",
       "      <th>2866469834</th>\n",
       "      <td>1</td>\n",
       "    </tr>\n",
       "    <tr>\n",
       "      <th>...</th>\n",
       "      <td>...</td>\n",
       "    </tr>\n",
       "    <tr>\n",
       "      <th>1476831880</th>\n",
       "      <td>1</td>\n",
       "    </tr>\n",
       "    <tr>\n",
       "      <th>1476390797</th>\n",
       "      <td>1</td>\n",
       "    </tr>\n",
       "    <tr>\n",
       "      <th>1473132782</th>\n",
       "      <td>1</td>\n",
       "    </tr>\n",
       "    <tr>\n",
       "      <th>1472783002</th>\n",
       "      <td>1</td>\n",
       "    </tr>\n",
       "    <tr>\n",
       "      <th>4293855558</th>\n",
       "      <td>1</td>\n",
       "    </tr>\n",
       "  </tbody>\n",
       "</table>\n",
       "<p>1197 rows × 1 columns</p>\n",
       "</div>"
      ],
      "text/plain": [
       "               group\n",
       "transactionId       \n",
       "1062393            1\n",
       "2883105032         1\n",
       "2875229767         1\n",
       "2872509092         1\n",
       "2866469834         1\n",
       "...              ...\n",
       "1476831880         1\n",
       "1476390797         1\n",
       "1473132782         1\n",
       "1472783002         1\n",
       "4293855558         1\n",
       "\n",
       "[1197 rows x 1 columns]"
      ]
     },
     "execution_count": 18,
     "metadata": {},
     "output_type": "execute_result"
    }
   ],
   "source": [
    "df_o.pivot_table(index='transactionId', values='group', aggfunc='count').sort_values(by='group', ascending=False)"
   ]
  },
  {
   "cell_type": "markdown",
   "id": "1a2f62f5",
   "metadata": {},
   "source": [
    "There are no duplicates in transactionId column."
   ]
  },
  {
   "cell_type": "code",
   "execution_count": 19,
   "id": "c2208609",
   "metadata": {},
   "outputs": [
    {
     "data": {
      "text/html": [
       "<div>\n",
       "<style scoped>\n",
       "    .dataframe tbody tr th:only-of-type {\n",
       "        vertical-align: middle;\n",
       "    }\n",
       "\n",
       "    .dataframe tbody tr th {\n",
       "        vertical-align: top;\n",
       "    }\n",
       "\n",
       "    .dataframe thead th {\n",
       "        text-align: right;\n",
       "    }\n",
       "</style>\n",
       "<table border=\"1\" class=\"dataframe\">\n",
       "  <thead>\n",
       "    <tr style=\"text-align: right;\">\n",
       "      <th></th>\n",
       "      <th>visitorId</th>\n",
       "      <th>group</th>\n",
       "    </tr>\n",
       "  </thead>\n",
       "  <tbody>\n",
       "    <tr>\n",
       "      <th>2</th>\n",
       "      <td>8300375</td>\n",
       "      <td>2</td>\n",
       "    </tr>\n",
       "    <tr>\n",
       "      <th>44</th>\n",
       "      <td>199603092</td>\n",
       "      <td>2</td>\n",
       "    </tr>\n",
       "    <tr>\n",
       "      <th>51</th>\n",
       "      <td>232979603</td>\n",
       "      <td>2</td>\n",
       "    </tr>\n",
       "    <tr>\n",
       "      <th>55</th>\n",
       "      <td>237748145</td>\n",
       "      <td>2</td>\n",
       "    </tr>\n",
       "    <tr>\n",
       "      <th>66</th>\n",
       "      <td>276558944</td>\n",
       "      <td>2</td>\n",
       "    </tr>\n",
       "    <tr>\n",
       "      <th>84</th>\n",
       "      <td>351125977</td>\n",
       "      <td>2</td>\n",
       "    </tr>\n",
       "    <tr>\n",
       "      <th>97</th>\n",
       "      <td>393266494</td>\n",
       "      <td>2</td>\n",
       "    </tr>\n",
       "    <tr>\n",
       "      <th>114</th>\n",
       "      <td>457167155</td>\n",
       "      <td>2</td>\n",
       "    </tr>\n",
       "    <tr>\n",
       "      <th>119</th>\n",
       "      <td>471551937</td>\n",
       "      <td>2</td>\n",
       "    </tr>\n",
       "    <tr>\n",
       "      <th>122</th>\n",
       "      <td>477780734</td>\n",
       "      <td>2</td>\n",
       "    </tr>\n",
       "    <tr>\n",
       "      <th>192</th>\n",
       "      <td>818047933</td>\n",
       "      <td>2</td>\n",
       "    </tr>\n",
       "    <tr>\n",
       "      <th>236</th>\n",
       "      <td>963407295</td>\n",
       "      <td>2</td>\n",
       "    </tr>\n",
       "    <tr>\n",
       "      <th>299</th>\n",
       "      <td>1230306981</td>\n",
       "      <td>2</td>\n",
       "    </tr>\n",
       "    <tr>\n",
       "      <th>311</th>\n",
       "      <td>1294878855</td>\n",
       "      <td>2</td>\n",
       "    </tr>\n",
       "    <tr>\n",
       "      <th>316</th>\n",
       "      <td>1316129916</td>\n",
       "      <td>2</td>\n",
       "    </tr>\n",
       "    <tr>\n",
       "      <th>318</th>\n",
       "      <td>1333886533</td>\n",
       "      <td>2</td>\n",
       "    </tr>\n",
       "    <tr>\n",
       "      <th>340</th>\n",
       "      <td>1404934699</td>\n",
       "      <td>2</td>\n",
       "    </tr>\n",
       "    <tr>\n",
       "      <th>386</th>\n",
       "      <td>1602967004</td>\n",
       "      <td>2</td>\n",
       "    </tr>\n",
       "    <tr>\n",
       "      <th>393</th>\n",
       "      <td>1614305549</td>\n",
       "      <td>2</td>\n",
       "    </tr>\n",
       "    <tr>\n",
       "      <th>402</th>\n",
       "      <td>1648269707</td>\n",
       "      <td>2</td>\n",
       "    </tr>\n",
       "    <tr>\n",
       "      <th>406</th>\n",
       "      <td>1668030113</td>\n",
       "      <td>2</td>\n",
       "    </tr>\n",
       "    <tr>\n",
       "      <th>422</th>\n",
       "      <td>1738359350</td>\n",
       "      <td>2</td>\n",
       "    </tr>\n",
       "    <tr>\n",
       "      <th>436</th>\n",
       "      <td>1801183820</td>\n",
       "      <td>2</td>\n",
       "    </tr>\n",
       "    <tr>\n",
       "      <th>469</th>\n",
       "      <td>1959144690</td>\n",
       "      <td>2</td>\n",
       "    </tr>\n",
       "    <tr>\n",
       "      <th>487</th>\n",
       "      <td>2038680547</td>\n",
       "      <td>2</td>\n",
       "    </tr>\n",
       "    <tr>\n",
       "      <th>491</th>\n",
       "      <td>2044997962</td>\n",
       "      <td>2</td>\n",
       "    </tr>\n",
       "    <tr>\n",
       "      <th>569</th>\n",
       "      <td>2378935119</td>\n",
       "      <td>2</td>\n",
       "    </tr>\n",
       "    <tr>\n",
       "      <th>591</th>\n",
       "      <td>2458001652</td>\n",
       "      <td>2</td>\n",
       "    </tr>\n",
       "    <tr>\n",
       "      <th>614</th>\n",
       "      <td>2579882178</td>\n",
       "      <td>2</td>\n",
       "    </tr>\n",
       "    <tr>\n",
       "      <th>619</th>\n",
       "      <td>2587333274</td>\n",
       "      <td>2</td>\n",
       "    </tr>\n",
       "    <tr>\n",
       "      <th>622</th>\n",
       "      <td>2600415354</td>\n",
       "      <td>2</td>\n",
       "    </tr>\n",
       "    <tr>\n",
       "      <th>639</th>\n",
       "      <td>2654030115</td>\n",
       "      <td>2</td>\n",
       "    </tr>\n",
       "    <tr>\n",
       "      <th>648</th>\n",
       "      <td>2686716486</td>\n",
       "      <td>2</td>\n",
       "    </tr>\n",
       "    <tr>\n",
       "      <th>661</th>\n",
       "      <td>2712142231</td>\n",
       "      <td>2</td>\n",
       "    </tr>\n",
       "    <tr>\n",
       "      <th>662</th>\n",
       "      <td>2716752286</td>\n",
       "      <td>2</td>\n",
       "    </tr>\n",
       "    <tr>\n",
       "      <th>677</th>\n",
       "      <td>2780786433</td>\n",
       "      <td>2</td>\n",
       "    </tr>\n",
       "    <tr>\n",
       "      <th>710</th>\n",
       "      <td>2927087541</td>\n",
       "      <td>2</td>\n",
       "    </tr>\n",
       "    <tr>\n",
       "      <th>715</th>\n",
       "      <td>2949041841</td>\n",
       "      <td>2</td>\n",
       "    </tr>\n",
       "    <tr>\n",
       "      <th>718</th>\n",
       "      <td>2954449915</td>\n",
       "      <td>2</td>\n",
       "    </tr>\n",
       "    <tr>\n",
       "      <th>744</th>\n",
       "      <td>3062433592</td>\n",
       "      <td>2</td>\n",
       "    </tr>\n",
       "    <tr>\n",
       "      <th>784</th>\n",
       "      <td>3202540741</td>\n",
       "      <td>2</td>\n",
       "    </tr>\n",
       "    <tr>\n",
       "      <th>792</th>\n",
       "      <td>3234906277</td>\n",
       "      <td>2</td>\n",
       "    </tr>\n",
       "    <tr>\n",
       "      <th>884</th>\n",
       "      <td>3656415546</td>\n",
       "      <td>2</td>\n",
       "    </tr>\n",
       "    <tr>\n",
       "      <th>897</th>\n",
       "      <td>3717692402</td>\n",
       "      <td>2</td>\n",
       "    </tr>\n",
       "    <tr>\n",
       "      <th>909</th>\n",
       "      <td>3766097110</td>\n",
       "      <td>2</td>\n",
       "    </tr>\n",
       "    <tr>\n",
       "      <th>917</th>\n",
       "      <td>3803269165</td>\n",
       "      <td>2</td>\n",
       "    </tr>\n",
       "    <tr>\n",
       "      <th>932</th>\n",
       "      <td>3891541246</td>\n",
       "      <td>2</td>\n",
       "    </tr>\n",
       "    <tr>\n",
       "      <th>950</th>\n",
       "      <td>3941795274</td>\n",
       "      <td>2</td>\n",
       "    </tr>\n",
       "    <tr>\n",
       "      <th>954</th>\n",
       "      <td>3951559397</td>\n",
       "      <td>2</td>\n",
       "    </tr>\n",
       "    <tr>\n",
       "      <th>957</th>\n",
       "      <td>3957174400</td>\n",
       "      <td>2</td>\n",
       "    </tr>\n",
       "    <tr>\n",
       "      <th>958</th>\n",
       "      <td>3963646447</td>\n",
       "      <td>2</td>\n",
       "    </tr>\n",
       "    <tr>\n",
       "      <th>960</th>\n",
       "      <td>3972127743</td>\n",
       "      <td>2</td>\n",
       "    </tr>\n",
       "    <tr>\n",
       "      <th>963</th>\n",
       "      <td>3984495233</td>\n",
       "      <td>2</td>\n",
       "    </tr>\n",
       "    <tr>\n",
       "      <th>984</th>\n",
       "      <td>4069496402</td>\n",
       "      <td>2</td>\n",
       "    </tr>\n",
       "    <tr>\n",
       "      <th>992</th>\n",
       "      <td>4120364173</td>\n",
       "      <td>2</td>\n",
       "    </tr>\n",
       "    <tr>\n",
       "      <th>1009</th>\n",
       "      <td>4186807279</td>\n",
       "      <td>2</td>\n",
       "    </tr>\n",
       "    <tr>\n",
       "      <th>1023</th>\n",
       "      <td>4256040402</td>\n",
       "      <td>2</td>\n",
       "    </tr>\n",
       "    <tr>\n",
       "      <th>1026</th>\n",
       "      <td>4266935830</td>\n",
       "      <td>2</td>\n",
       "    </tr>\n",
       "  </tbody>\n",
       "</table>\n",
       "</div>"
      ],
      "text/plain": [
       "       visitorId  group\n",
       "2        8300375      2\n",
       "44     199603092      2\n",
       "51     232979603      2\n",
       "55     237748145      2\n",
       "66     276558944      2\n",
       "84     351125977      2\n",
       "97     393266494      2\n",
       "114    457167155      2\n",
       "119    471551937      2\n",
       "122    477780734      2\n",
       "192    818047933      2\n",
       "236    963407295      2\n",
       "299   1230306981      2\n",
       "311   1294878855      2\n",
       "316   1316129916      2\n",
       "318   1333886533      2\n",
       "340   1404934699      2\n",
       "386   1602967004      2\n",
       "393   1614305549      2\n",
       "402   1648269707      2\n",
       "406   1668030113      2\n",
       "422   1738359350      2\n",
       "436   1801183820      2\n",
       "469   1959144690      2\n",
       "487   2038680547      2\n",
       "491   2044997962      2\n",
       "569   2378935119      2\n",
       "591   2458001652      2\n",
       "614   2579882178      2\n",
       "619   2587333274      2\n",
       "622   2600415354      2\n",
       "639   2654030115      2\n",
       "648   2686716486      2\n",
       "661   2712142231      2\n",
       "662   2716752286      2\n",
       "677   2780786433      2\n",
       "710   2927087541      2\n",
       "715   2949041841      2\n",
       "718   2954449915      2\n",
       "744   3062433592      2\n",
       "784   3202540741      2\n",
       "792   3234906277      2\n",
       "884   3656415546      2\n",
       "897   3717692402      2\n",
       "909   3766097110      2\n",
       "917   3803269165      2\n",
       "932   3891541246      2\n",
       "950   3941795274      2\n",
       "954   3951559397      2\n",
       "957   3957174400      2\n",
       "958   3963646447      2\n",
       "960   3972127743      2\n",
       "963   3984495233      2\n",
       "984   4069496402      2\n",
       "992   4120364173      2\n",
       "1009  4186807279      2\n",
       "1023  4256040402      2\n",
       "1026  4266935830      2"
      ]
     },
     "execution_count": 19,
     "metadata": {},
     "output_type": "execute_result"
    }
   ],
   "source": [
    "df_o.groupby(['visitorId'])['group'].nunique().reset_index().query('group>1')"
   ]
  },
  {
   "cell_type": "code",
   "execution_count": 20,
   "id": "396c8ced",
   "metadata": {
    "scrolled": true
   },
   "outputs": [],
   "source": [
    "list_users=list(df_o.groupby(['visitorId'])['group'].nunique().reset_index().query('group>1')['visitorId'])"
   ]
  },
  {
   "cell_type": "code",
   "execution_count": 21,
   "id": "45204799",
   "metadata": {},
   "outputs": [
    {
     "data": {
      "text/plain": [
       "[8300375,\n",
       " 199603092,\n",
       " 232979603,\n",
       " 237748145,\n",
       " 276558944,\n",
       " 351125977,\n",
       " 393266494,\n",
       " 457167155,\n",
       " 471551937,\n",
       " 477780734,\n",
       " 818047933,\n",
       " 963407295,\n",
       " 1230306981,\n",
       " 1294878855,\n",
       " 1316129916,\n",
       " 1333886533,\n",
       " 1404934699,\n",
       " 1602967004,\n",
       " 1614305549,\n",
       " 1648269707,\n",
       " 1668030113,\n",
       " 1738359350,\n",
       " 1801183820,\n",
       " 1959144690,\n",
       " 2038680547,\n",
       " 2044997962,\n",
       " 2378935119,\n",
       " 2458001652,\n",
       " 2579882178,\n",
       " 2587333274,\n",
       " 2600415354,\n",
       " 2654030115,\n",
       " 2686716486,\n",
       " 2712142231,\n",
       " 2716752286,\n",
       " 2780786433,\n",
       " 2927087541,\n",
       " 2949041841,\n",
       " 2954449915,\n",
       " 3062433592,\n",
       " 3202540741,\n",
       " 3234906277,\n",
       " 3656415546,\n",
       " 3717692402,\n",
       " 3766097110,\n",
       " 3803269165,\n",
       " 3891541246,\n",
       " 3941795274,\n",
       " 3951559397,\n",
       " 3957174400,\n",
       " 3963646447,\n",
       " 3972127743,\n",
       " 3984495233,\n",
       " 4069496402,\n",
       " 4120364173,\n",
       " 4186807279,\n",
       " 4256040402,\n",
       " 4266935830]"
      ]
     },
     "execution_count": 21,
     "metadata": {},
     "output_type": "execute_result"
    }
   ],
   "source": [
    "list_users"
   ]
  },
  {
   "cell_type": "code",
   "execution_count": 22,
   "id": "802368d2",
   "metadata": {},
   "outputs": [
    {
     "data": {
      "text/plain": [
       "58"
      ]
     },
     "execution_count": 22,
     "metadata": {},
     "output_type": "execute_result"
    }
   ],
   "source": [
    "len(list_users)"
   ]
  },
  {
   "cell_type": "code",
   "execution_count": 23,
   "id": "19d409aa",
   "metadata": {},
   "outputs": [],
   "source": [
    "df_o = df_o.query('visitorId not in @list_users')"
   ]
  },
  {
   "cell_type": "code",
   "execution_count": 24,
   "id": "1d50192a",
   "metadata": {
    "scrolled": true
   },
   "outputs": [
    {
     "name": "stdout",
     "output_type": "stream",
     "text": [
      "<class 'pandas.core.frame.DataFrame'>\n",
      "Int64Index: 1016 entries, 0 to 1196\n",
      "Data columns (total 5 columns):\n",
      " #   Column         Non-Null Count  Dtype  \n",
      "---  ------         --------------  -----  \n",
      " 0   transactionId  1016 non-null   int64  \n",
      " 1   visitorId      1016 non-null   int64  \n",
      " 2   date           1016 non-null   object \n",
      " 3   revenue        1016 non-null   float64\n",
      " 4   group          1016 non-null   object \n",
      "dtypes: float64(1), int64(2), object(2)\n",
      "memory usage: 47.6+ KB\n"
     ]
    }
   ],
   "source": [
    "df_o.info()"
   ]
  },
  {
   "cell_type": "markdown",
   "id": "581a6961",
   "metadata": {},
   "source": [
    "58 users ID has both groups A and B. We remove them from the file orders, number of rows reduced from 1197 to 1016 \n",
    "We can't  remove them from file visits, as we don't have info about ID's in it."
   ]
  },
  {
   "cell_type": "code",
   "execution_count": 25,
   "id": "f25de272",
   "metadata": {},
   "outputs": [],
   "source": [
    "df_v = pd.read_csv('visits_us.csv', sep=',')"
   ]
  },
  {
   "cell_type": "code",
   "execution_count": 26,
   "id": "0a77c3fb",
   "metadata": {},
   "outputs": [
    {
     "data": {
      "text/html": [
       "<div>\n",
       "<style scoped>\n",
       "    .dataframe tbody tr th:only-of-type {\n",
       "        vertical-align: middle;\n",
       "    }\n",
       "\n",
       "    .dataframe tbody tr th {\n",
       "        vertical-align: top;\n",
       "    }\n",
       "\n",
       "    .dataframe thead th {\n",
       "        text-align: right;\n",
       "    }\n",
       "</style>\n",
       "<table border=\"1\" class=\"dataframe\">\n",
       "  <thead>\n",
       "    <tr style=\"text-align: right;\">\n",
       "      <th></th>\n",
       "      <th>date</th>\n",
       "      <th>group</th>\n",
       "      <th>visits</th>\n",
       "    </tr>\n",
       "  </thead>\n",
       "  <tbody>\n",
       "    <tr>\n",
       "      <th>0</th>\n",
       "      <td>2019-08-01</td>\n",
       "      <td>A</td>\n",
       "      <td>719</td>\n",
       "    </tr>\n",
       "    <tr>\n",
       "      <th>1</th>\n",
       "      <td>2019-08-02</td>\n",
       "      <td>A</td>\n",
       "      <td>619</td>\n",
       "    </tr>\n",
       "    <tr>\n",
       "      <th>2</th>\n",
       "      <td>2019-08-03</td>\n",
       "      <td>A</td>\n",
       "      <td>507</td>\n",
       "    </tr>\n",
       "    <tr>\n",
       "      <th>3</th>\n",
       "      <td>2019-08-04</td>\n",
       "      <td>A</td>\n",
       "      <td>717</td>\n",
       "    </tr>\n",
       "    <tr>\n",
       "      <th>4</th>\n",
       "      <td>2019-08-05</td>\n",
       "      <td>A</td>\n",
       "      <td>756</td>\n",
       "    </tr>\n",
       "    <tr>\n",
       "      <th>...</th>\n",
       "      <td>...</td>\n",
       "      <td>...</td>\n",
       "      <td>...</td>\n",
       "    </tr>\n",
       "    <tr>\n",
       "      <th>57</th>\n",
       "      <td>2019-08-27</td>\n",
       "      <td>B</td>\n",
       "      <td>720</td>\n",
       "    </tr>\n",
       "    <tr>\n",
       "      <th>58</th>\n",
       "      <td>2019-08-28</td>\n",
       "      <td>B</td>\n",
       "      <td>654</td>\n",
       "    </tr>\n",
       "    <tr>\n",
       "      <th>59</th>\n",
       "      <td>2019-08-29</td>\n",
       "      <td>B</td>\n",
       "      <td>531</td>\n",
       "    </tr>\n",
       "    <tr>\n",
       "      <th>60</th>\n",
       "      <td>2019-08-30</td>\n",
       "      <td>B</td>\n",
       "      <td>490</td>\n",
       "    </tr>\n",
       "    <tr>\n",
       "      <th>61</th>\n",
       "      <td>2019-08-31</td>\n",
       "      <td>B</td>\n",
       "      <td>718</td>\n",
       "    </tr>\n",
       "  </tbody>\n",
       "</table>\n",
       "<p>62 rows × 3 columns</p>\n",
       "</div>"
      ],
      "text/plain": [
       "          date group  visits\n",
       "0   2019-08-01     A     719\n",
       "1   2019-08-02     A     619\n",
       "2   2019-08-03     A     507\n",
       "3   2019-08-04     A     717\n",
       "4   2019-08-05     A     756\n",
       "..         ...   ...     ...\n",
       "57  2019-08-27     B     720\n",
       "58  2019-08-28     B     654\n",
       "59  2019-08-29     B     531\n",
       "60  2019-08-30     B     490\n",
       "61  2019-08-31     B     718\n",
       "\n",
       "[62 rows x 3 columns]"
      ]
     },
     "execution_count": 26,
     "metadata": {},
     "output_type": "execute_result"
    }
   ],
   "source": [
    "df_v"
   ]
  },
  {
   "cell_type": "code",
   "execution_count": 27,
   "id": "37f2df72",
   "metadata": {
    "scrolled": true
   },
   "outputs": [
    {
     "name": "stdout",
     "output_type": "stream",
     "text": [
      "<class 'pandas.core.frame.DataFrame'>\n",
      "RangeIndex: 62 entries, 0 to 61\n",
      "Data columns (total 3 columns):\n",
      " #   Column  Non-Null Count  Dtype \n",
      "---  ------  --------------  ----- \n",
      " 0   date    62 non-null     object\n",
      " 1   group   62 non-null     object\n",
      " 2   visits  62 non-null     int64 \n",
      "dtypes: int64(1), object(2)\n",
      "memory usage: 1.6+ KB\n"
     ]
    }
   ],
   "source": [
    "df_v.info()"
   ]
  },
  {
   "cell_type": "code",
   "execution_count": 28,
   "id": "35d8e027",
   "metadata": {
    "scrolled": true
   },
   "outputs": [
    {
     "data": {
      "text/html": [
       "<div>\n",
       "<style scoped>\n",
       "    .dataframe tbody tr th:only-of-type {\n",
       "        vertical-align: middle;\n",
       "    }\n",
       "\n",
       "    .dataframe tbody tr th {\n",
       "        vertical-align: top;\n",
       "    }\n",
       "\n",
       "    .dataframe thead th {\n",
       "        text-align: right;\n",
       "    }\n",
       "</style>\n",
       "<table border=\"1\" class=\"dataframe\">\n",
       "  <thead>\n",
       "    <tr style=\"text-align: right;\">\n",
       "      <th></th>\n",
       "      <th>date</th>\n",
       "    </tr>\n",
       "    <tr>\n",
       "      <th>group</th>\n",
       "      <th></th>\n",
       "    </tr>\n",
       "  </thead>\n",
       "  <tbody>\n",
       "    <tr>\n",
       "      <th>A</th>\n",
       "      <td>31</td>\n",
       "    </tr>\n",
       "    <tr>\n",
       "      <th>B</th>\n",
       "      <td>31</td>\n",
       "    </tr>\n",
       "  </tbody>\n",
       "</table>\n",
       "</div>"
      ],
      "text/plain": [
       "       date\n",
       "group      \n",
       "A        31\n",
       "B        31"
      ]
     },
     "execution_count": 28,
     "metadata": {},
     "output_type": "execute_result"
    }
   ],
   "source": [
    "df_v.pivot_table(index='group', values='date', aggfunc='count')"
   ]
  },
  {
   "cell_type": "code",
   "execution_count": 29,
   "id": "4fa9999d",
   "metadata": {},
   "outputs": [
    {
     "data": {
      "text/html": [
       "<div>\n",
       "<style scoped>\n",
       "    .dataframe tbody tr th:only-of-type {\n",
       "        vertical-align: middle;\n",
       "    }\n",
       "\n",
       "    .dataframe tbody tr th {\n",
       "        vertical-align: top;\n",
       "    }\n",
       "\n",
       "    .dataframe thead th {\n",
       "        text-align: right;\n",
       "    }\n",
       "</style>\n",
       "<table border=\"1\" class=\"dataframe\">\n",
       "  <thead>\n",
       "    <tr style=\"text-align: right;\">\n",
       "      <th></th>\n",
       "      <th>visits</th>\n",
       "    </tr>\n",
       "    <tr>\n",
       "      <th>group</th>\n",
       "      <th></th>\n",
       "    </tr>\n",
       "  </thead>\n",
       "  <tbody>\n",
       "    <tr>\n",
       "      <th>A</th>\n",
       "      <td>18736</td>\n",
       "    </tr>\n",
       "    <tr>\n",
       "      <th>B</th>\n",
       "      <td>18916</td>\n",
       "    </tr>\n",
       "  </tbody>\n",
       "</table>\n",
       "</div>"
      ],
      "text/plain": [
       "       visits\n",
       "group        \n",
       "A       18736\n",
       "B       18916"
      ]
     },
     "execution_count": 29,
     "metadata": {},
     "output_type": "execute_result"
    }
   ],
   "source": [
    "df_v.pivot_table(index='group', values='visits', aggfunc='sum')"
   ]
  },
  {
   "cell_type": "markdown",
   "id": "78b7a8d1",
   "metadata": {},
   "source": [
    "Everything ok with df visits - we have 31 days and 2 rows for 2 groups per day."
   ]
  },
  {
   "cell_type": "markdown",
   "id": "1c1d745d",
   "metadata": {},
   "source": [
    "### Graph cumulative revenue by group. Make conclusions and conjectures."
   ]
  },
  {
   "cell_type": "code",
   "execution_count": 30,
   "id": "b1108478",
   "metadata": {},
   "outputs": [],
   "source": [
    "dates_groups = df_o[['date', 'group']].drop_duplicates()"
   ]
  },
  {
   "cell_type": "code",
   "execution_count": 31,
   "id": "68165378",
   "metadata": {},
   "outputs": [],
   "source": [
    "orders_agg = dates_groups.apply(\n",
    "    lambda x: df_o[\n",
    "        np.logical_and(\n",
    "            df_o['date'] <= x['date'], df_o['group'] == x['group']\n",
    "        )\n",
    "    ].agg(\n",
    "        {\n",
    "            'date': 'max',\n",
    "            'group': 'max',\n",
    "            'transactionId': pd.Series.nunique,\n",
    "            'visitorId': pd.Series.nunique,\n",
    "            'revenue': 'sum',\n",
    "        }\n",
    "    ),\n",
    "    axis=1,\n",
    ").sort_values(by=['date', 'group'])"
   ]
  },
  {
   "cell_type": "code",
   "execution_count": 32,
   "id": "907878ec",
   "metadata": {},
   "outputs": [],
   "source": [
    "visitors_agg = dates_groups.apply(\n",
    "    lambda x: df_v[\n",
    "        np.logical_and(\n",
    "            df_v['date'] <= x['date'], df_v['group'] == x['group']\n",
    "        )\n",
    "    ].agg({'date': 'max', 'group': 'max', 'visits': 'sum'}),\n",
    "    axis=1,\n",
    ").sort_values(by=['date', 'group'])\n"
   ]
  },
  {
   "cell_type": "code",
   "execution_count": 33,
   "id": "82c5dcbf",
   "metadata": {},
   "outputs": [],
   "source": [
    "cumulativeData = orders_agg.merge(visitors_agg, left_on=['date', 'group'], right_on=['date', 'group'])"
   ]
  },
  {
   "cell_type": "code",
   "execution_count": 34,
   "id": "1864bb15",
   "metadata": {},
   "outputs": [],
   "source": [
    "cumulativeData.columns = [\n",
    "    'date',\n",
    "    'group',\n",
    "    'orders',\n",
    "    'buyers',\n",
    "    'revenue',\n",
    "    'visitors',\n",
    "]"
   ]
  },
  {
   "cell_type": "code",
   "execution_count": 35,
   "id": "385ba3b6",
   "metadata": {},
   "outputs": [
    {
     "data": {
      "text/html": [
       "<div>\n",
       "<style scoped>\n",
       "    .dataframe tbody tr th:only-of-type {\n",
       "        vertical-align: middle;\n",
       "    }\n",
       "\n",
       "    .dataframe tbody tr th {\n",
       "        vertical-align: top;\n",
       "    }\n",
       "\n",
       "    .dataframe thead th {\n",
       "        text-align: right;\n",
       "    }\n",
       "</style>\n",
       "<table border=\"1\" class=\"dataframe\">\n",
       "  <thead>\n",
       "    <tr style=\"text-align: right;\">\n",
       "      <th></th>\n",
       "      <th>date</th>\n",
       "      <th>group</th>\n",
       "      <th>orders</th>\n",
       "      <th>buyers</th>\n",
       "      <th>revenue</th>\n",
       "      <th>visitors</th>\n",
       "    </tr>\n",
       "  </thead>\n",
       "  <tbody>\n",
       "    <tr>\n",
       "      <th>0</th>\n",
       "      <td>2019-08-01</td>\n",
       "      <td>A</td>\n",
       "      <td>23</td>\n",
       "      <td>19</td>\n",
       "      <td>2266.6</td>\n",
       "      <td>719</td>\n",
       "    </tr>\n",
       "    <tr>\n",
       "      <th>1</th>\n",
       "      <td>2019-08-01</td>\n",
       "      <td>B</td>\n",
       "      <td>17</td>\n",
       "      <td>17</td>\n",
       "      <td>967.2</td>\n",
       "      <td>713</td>\n",
       "    </tr>\n",
       "    <tr>\n",
       "      <th>2</th>\n",
       "      <td>2019-08-02</td>\n",
       "      <td>A</td>\n",
       "      <td>42</td>\n",
       "      <td>36</td>\n",
       "      <td>3734.9</td>\n",
       "      <td>1338</td>\n",
       "    </tr>\n",
       "    <tr>\n",
       "      <th>3</th>\n",
       "      <td>2019-08-02</td>\n",
       "      <td>B</td>\n",
       "      <td>40</td>\n",
       "      <td>39</td>\n",
       "      <td>3535.3</td>\n",
       "      <td>1294</td>\n",
       "    </tr>\n",
       "    <tr>\n",
       "      <th>4</th>\n",
       "      <td>2019-08-03</td>\n",
       "      <td>A</td>\n",
       "      <td>66</td>\n",
       "      <td>60</td>\n",
       "      <td>5550.1</td>\n",
       "      <td>1845</td>\n",
       "    </tr>\n",
       "    <tr>\n",
       "      <th>5</th>\n",
       "      <td>2019-08-03</td>\n",
       "      <td>B</td>\n",
       "      <td>54</td>\n",
       "      <td>53</td>\n",
       "      <td>4606.9</td>\n",
       "      <td>1803</td>\n",
       "    </tr>\n",
       "    <tr>\n",
       "      <th>6</th>\n",
       "      <td>2019-08-04</td>\n",
       "      <td>A</td>\n",
       "      <td>77</td>\n",
       "      <td>71</td>\n",
       "      <td>6225.6</td>\n",
       "      <td>2562</td>\n",
       "    </tr>\n",
       "    <tr>\n",
       "      <th>7</th>\n",
       "      <td>2019-08-04</td>\n",
       "      <td>B</td>\n",
       "      <td>68</td>\n",
       "      <td>66</td>\n",
       "      <td>6138.5</td>\n",
       "      <td>2573</td>\n",
       "    </tr>\n",
       "    <tr>\n",
       "      <th>8</th>\n",
       "      <td>2019-08-05</td>\n",
       "      <td>A</td>\n",
       "      <td>99</td>\n",
       "      <td>92</td>\n",
       "      <td>7623.6</td>\n",
       "      <td>3318</td>\n",
       "    </tr>\n",
       "    <tr>\n",
       "      <th>9</th>\n",
       "      <td>2019-08-05</td>\n",
       "      <td>B</td>\n",
       "      <td>89</td>\n",
       "      <td>87</td>\n",
       "      <td>7587.8</td>\n",
       "      <td>3280</td>\n",
       "    </tr>\n",
       "  </tbody>\n",
       "</table>\n",
       "</div>"
      ],
      "text/plain": [
       "         date group  orders  buyers  revenue  visitors\n",
       "0  2019-08-01     A      23      19   2266.6       719\n",
       "1  2019-08-01     B      17      17    967.2       713\n",
       "2  2019-08-02     A      42      36   3734.9      1338\n",
       "3  2019-08-02     B      40      39   3535.3      1294\n",
       "4  2019-08-03     A      66      60   5550.1      1845\n",
       "5  2019-08-03     B      54      53   4606.9      1803\n",
       "6  2019-08-04     A      77      71   6225.6      2562\n",
       "7  2019-08-04     B      68      66   6138.5      2573\n",
       "8  2019-08-05     A      99      92   7623.6      3318\n",
       "9  2019-08-05     B      89      87   7587.8      3280"
      ]
     },
     "execution_count": 35,
     "metadata": {},
     "output_type": "execute_result"
    }
   ],
   "source": [
    "cumulativeData.head(10)"
   ]
  },
  {
   "cell_type": "code",
   "execution_count": 36,
   "id": "5475a2aa",
   "metadata": {},
   "outputs": [],
   "source": [
    "cumulativeRevenueA = cumulativeData[cumulativeData['group']=='A'][['date', 'revenue', 'orders']]\n",
    "\n",
    "cumulativeRevenueB = cumulativeData[cumulativeData['group']=='B'][['date', 'revenue', 'orders']]"
   ]
  },
  {
   "cell_type": "code",
   "execution_count": 37,
   "id": "72975581",
   "metadata": {},
   "outputs": [
    {
     "data": {
      "image/png": "[encoded data removed]",
      "text/plain": [
       "<Figure size 1080x432 with 1 Axes>"
      ]
     },
     "metadata": {
      "needs_background": "light"
     },
     "output_type": "display_data"
    }
   ],
   "source": [
    "plt.figure(figsize=(15, 6))\n",
    "plt.plot(cumulativeRevenueA['date'], cumulativeRevenueA['revenue'], label='A')\n",
    "plt.plot(cumulativeRevenueB['date'], cumulativeRevenueB['revenue'], label='B')\n",
    "\n",
    "plt.xticks(rotation=45)\n",
    "plt.title('Cumulative revenue by group')\n",
    "plt.ylabel('Revenue')\n",
    "plt.xlabel('Date')\n",
    "plt.legend()\n",
    "plt.show()"
   ]
  },
  {
   "cell_type": "markdown",
   "id": "d4ac647c",
   "metadata": {},
   "source": [
    "#### Conclusions and conjectures"
   ]
  },
  {
   "cell_type": "markdown",
   "id": "4975d850",
   "metadata": {},
   "source": [
    "Revenue is rising steadily throughout the whole test in both groups. However, group B has a spike in the middle of the test. Reason for it can be surge in the number of orders or very expensive orders in the sample."
   ]
  },
  {
   "cell_type": "markdown",
   "id": "acffd635",
   "metadata": {},
   "source": [
    "### Graph cumulative average order size by group. Make conclusions and conjectures."
   ]
  },
  {
   "cell_type": "code",
   "execution_count": 38,
   "id": "25f9b151",
   "metadata": {
    "scrolled": false
   },
   "outputs": [
    {
     "data": {
      "image/png": "[encoded data removed]",
      "text/plain": [
       "<Figure size 1080x432 with 1 Axes>"
      ]
     },
     "metadata": {
      "needs_background": "light"
     },
     "output_type": "display_data"
    }
   ],
   "source": [
    "plt.figure(figsize=(15, 6))\n",
    "plt.plot(cumulativeRevenueA['date'], cumulativeRevenueA['revenue']/cumulativeRevenueA['orders'], label='A')\n",
    "plt.plot(cumulativeRevenueB['date'], cumulativeRevenueB['revenue']/cumulativeRevenueB['orders'], label='B')\n",
    "plt.xticks(rotation=45)\n",
    "plt.title('Cumulative average order size by group')\n",
    "plt.ylabel('Average order size')\n",
    "plt.xlabel('Date')\n",
    "plt.legend()\n",
    "plt.show()"
   ]
  },
  {
   "cell_type": "markdown",
   "id": "a9f84fd8",
   "metadata": {},
   "source": [
    "#### Conclusions and conjectures"
   ]
  },
  {
   "cell_type": "markdown",
   "id": "37bc7f7c",
   "metadata": {},
   "source": [
    "Average order size by group is fluctuating till the middle of the test. Group B has a spike in the middle of the test, at the same moment with revenue. After that moments average order size of group A almost stable, while gruop B slowly reducing."
   ]
  },
  {
   "cell_type": "markdown",
   "id": "97eaca2a",
   "metadata": {},
   "source": [
    "### Graph the relative difference in cumulative average order size for group B compared with group A. Make conclusions and conjectures."
   ]
  },
  {
   "cell_type": "markdown",
   "id": "dd176363",
   "metadata": {},
   "source": [
    "Relative difference graph for the average purchase sizes"
   ]
  },
  {
   "cell_type": "code",
   "execution_count": 39,
   "id": "4c6f3f26",
   "metadata": {},
   "outputs": [],
   "source": [
    "mergedCumulativeRevenue = cumulativeRevenueA.merge(cumulativeRevenueB, left_on='date', right_on='date', how='left', suffixes=['A', 'B'])"
   ]
  },
  {
   "cell_type": "code",
   "execution_count": 40,
   "id": "de6113ea",
   "metadata": {
    "scrolled": true
   },
   "outputs": [
    {
     "data": {
      "image/png": "[encoded data removed]",
      "text/plain": [
       "<Figure size 1080x432 with 1 Axes>"
      ]
     },
     "metadata": {
      "needs_background": "light"
     },
     "output_type": "display_data"
    }
   ],
   "source": [
    "plt.figure(figsize=(15, 6))\n",
    "plt.plot(mergedCumulativeRevenue['date'], (mergedCumulativeRevenue['revenueB']/mergedCumulativeRevenue['ordersB'])/(mergedCumulativeRevenue['revenueA']/mergedCumulativeRevenue['ordersA'])-1)\n",
    "plt.axhline(y=0, color='black', linestyle='--')\n",
    "\n",
    "plt.xticks(rotation=45)\n",
    "plt.title('Relative difference in cumulative average order size')\n",
    "plt.ylabel('Difference')\n",
    "plt.xlabel('Date')\n",
    "plt.show()\n"
   ]
  },
  {
   "cell_type": "markdown",
   "id": "f113d7d6",
   "metadata": {},
   "source": [
    "Conclusion"
   ]
  },
  {
   "cell_type": "markdown",
   "id": "7e025aa7",
   "metadata": {},
   "source": [
    "At several points the difference between the segments spikes. This means there must be some big orders and outliers.\n"
   ]
  },
  {
   "cell_type": "markdown",
   "id": "63c89799",
   "metadata": {},
   "source": [
    "### Calculate each group's conversion rate as the ratio of orders to the number of visits for each day. Plot the daily conversion rates of the two groups and describe the difference. Draw conclusions and make conjectures."
   ]
  },
  {
   "cell_type": "markdown",
   "id": "bac34dee",
   "metadata": {},
   "source": [
    "-  calculating cumulative conversion\n",
    "cumulativeData['conversion'] = cumulativeData['orders']/cumulativeData['visitors']\n",
    "\n",
    "- selecting data on group A \n",
    "cumulativeDataA = cumulativeData[cumulativeData['group']=='A']\n",
    "\n",
    "- selecting data on group B\n",
    "cumulativeDataB = cumulativeData[cumulativeData['group']=='B']\n",
    "\n",
    "- plotting the graphs\n",
    "plt.plot(cumulativeDataA['date'], cumulativeDataA['conversion'], label='A')\n",
    "plt.plot(cumulativeDataB['date'], cumulativeDataB['conversion'], label='B')\n",
    "plt.legend()\n",
    "\n",
    "- setting the axes' scale\n",
    "plt.axis([\"2019-04-01\", '2019-04-23', 0, 0.015])\n"
   ]
  },
  {
   "cell_type": "code",
   "execution_count": 41,
   "id": "027daee1",
   "metadata": {},
   "outputs": [],
   "source": [
    "cumulativeData['conversion'] = cumulativeData['orders']/cumulativeData['visitors']"
   ]
  },
  {
   "cell_type": "code",
   "execution_count": 42,
   "id": "1b24cb86",
   "metadata": {},
   "outputs": [],
   "source": [
    "cumulativeDataA = cumulativeData[cumulativeData['group']=='A']\n",
    "cumulativeDataB = cumulativeData[cumulativeData['group']=='B']"
   ]
  },
  {
   "cell_type": "code",
   "execution_count": 43,
   "id": "7bbe8a0d",
   "metadata": {},
   "outputs": [
    {
     "data": {
      "image/png": "[encoded data removed]",
      "text/plain": [
       "<Figure size 1080x432 with 1 Axes>"
      ]
     },
     "metadata": {
      "needs_background": "light"
     },
     "output_type": "display_data"
    }
   ],
   "source": [
    "plt.figure(figsize=(15, 6))\n",
    "plt.plot(cumulativeDataA['date'], cumulativeDataA['conversion'], label='A')\n",
    "plt.plot(cumulativeDataB['date'], cumulativeDataB['conversion'], label='B')\n",
    "plt.xticks(rotation=45)\n",
    "plt.title('Daily conversion rates of the two groups')\n",
    "plt.ylabel('Conversion rate')\n",
    "plt.xlabel('Date')\n",
    "plt.legend()\n",
    "plt.show()"
   ]
  },
  {
   "cell_type": "markdown",
   "id": "e54daf45",
   "metadata": {},
   "source": [
    "\n"
   ]
  },
  {
   "cell_type": "markdown",
   "id": "d2b1619b",
   "metadata": {},
   "source": [
    "There was big fluctuation in the begging. Then the conversion rate of group A decreased before stabilizing, while the conversion rate of group B rose and then stabilized. So the conversion rate of the group B is better."
   ]
  },
  {
   "cell_type": "markdown",
   "id": "3a03d489",
   "metadata": {},
   "source": [
    "Relative difference graph for the cumulative conversion rates:"
   ]
  },
  {
   "cell_type": "code",
   "execution_count": 44,
   "id": "56965f63",
   "metadata": {},
   "outputs": [],
   "source": [
    "mergedCumulativeConversions = cumulativeDataA[['date','conversion']].merge(cumulativeDataB[['date','conversion']], left_on='date', right_on='date', how='left', suffixes=['A', 'B'])"
   ]
  },
  {
   "cell_type": "code",
   "execution_count": 45,
   "id": "adf62c93",
   "metadata": {
    "scrolled": true
   },
   "outputs": [
    {
     "data": {
      "text/plain": [
       "(0.0, 30.0, -0.3, 0.3)"
      ]
     },
     "execution_count": 45,
     "metadata": {},
     "output_type": "execute_result"
    },
    {
     "data": {
      "image/png": "[encoded data removed]",
      "text/plain": [
       "<Figure size 1080x432 with 1 Axes>"
      ]
     },
     "metadata": {
      "needs_background": "light"
     },
     "output_type": "display_data"
    }
   ],
   "source": [
    "plt.figure(figsize=(15, 6))\n",
    "plt.plot(mergedCumulativeConversions['date'], mergedCumulativeConversions['conversionB']/mergedCumulativeConversions['conversionA']-1, label=\"Relative gain in conversion in group B as opposed to group A\")\n",
    "plt.legend()\n",
    "\n",
    "plt.xticks(rotation=45)\n",
    "plt.title('Relative difference in cumulative average order size')\n",
    "plt.ylabel('Difference')\n",
    "plt.xlabel('Date')\n",
    "\n",
    "plt.axhline(y=0, color='black', linestyle='--')\n",
    "plt.axhline(y=-0.1, color='grey', linestyle='--')\n",
    "plt.axis([\"2019-08-01\", '2019-08-31', -0.3, 0.3])"
   ]
  },
  {
   "cell_type": "markdown",
   "id": "563121f9",
   "metadata": {},
   "source": [
    "### Plot a scatter chart of the number of orders per user. Make conclusions and conjectures."
   ]
  },
  {
   "cell_type": "code",
   "execution_count": 46,
   "id": "d0813d08",
   "metadata": {},
   "outputs": [
    {
     "data": {
      "text/html": [
       "<div>\n",
       "<style scoped>\n",
       "    .dataframe tbody tr th:only-of-type {\n",
       "        vertical-align: middle;\n",
       "    }\n",
       "\n",
       "    .dataframe tbody tr th {\n",
       "        vertical-align: top;\n",
       "    }\n",
       "\n",
       "    .dataframe thead th {\n",
       "        text-align: right;\n",
       "    }\n",
       "</style>\n",
       "<table border=\"1\" class=\"dataframe\">\n",
       "  <thead>\n",
       "    <tr style=\"text-align: right;\">\n",
       "      <th></th>\n",
       "      <th>transactionId</th>\n",
       "      <th>visitorId</th>\n",
       "      <th>date</th>\n",
       "      <th>revenue</th>\n",
       "      <th>group</th>\n",
       "    </tr>\n",
       "  </thead>\n",
       "  <tbody>\n",
       "    <tr>\n",
       "      <th>0</th>\n",
       "      <td>3667963787</td>\n",
       "      <td>3312258926</td>\n",
       "      <td>2019-08-15</td>\n",
       "      <td>30.4</td>\n",
       "      <td>B</td>\n",
       "    </tr>\n",
       "    <tr>\n",
       "      <th>1</th>\n",
       "      <td>2804400009</td>\n",
       "      <td>3642806036</td>\n",
       "      <td>2019-08-15</td>\n",
       "      <td>15.2</td>\n",
       "      <td>B</td>\n",
       "    </tr>\n",
       "    <tr>\n",
       "      <th>3</th>\n",
       "      <td>3797467345</td>\n",
       "      <td>1196621759</td>\n",
       "      <td>2019-08-15</td>\n",
       "      <td>155.1</td>\n",
       "      <td>B</td>\n",
       "    </tr>\n",
       "    <tr>\n",
       "      <th>4</th>\n",
       "      <td>2282983706</td>\n",
       "      <td>2322279887</td>\n",
       "      <td>2019-08-15</td>\n",
       "      <td>40.5</td>\n",
       "      <td>B</td>\n",
       "    </tr>\n",
       "    <tr>\n",
       "      <th>5</th>\n",
       "      <td>182168103</td>\n",
       "      <td>935554773</td>\n",
       "      <td>2019-08-15</td>\n",
       "      <td>35.0</td>\n",
       "      <td>B</td>\n",
       "    </tr>\n",
       "  </tbody>\n",
       "</table>\n",
       "</div>"
      ],
      "text/plain": [
       "   transactionId   visitorId        date  revenue group\n",
       "0     3667963787  3312258926  2019-08-15     30.4     B\n",
       "1     2804400009  3642806036  2019-08-15     15.2     B\n",
       "3     3797467345  1196621759  2019-08-15    155.1     B\n",
       "4     2282983706  2322279887  2019-08-15     40.5     B\n",
       "5      182168103   935554773  2019-08-15     35.0     B"
      ]
     },
     "execution_count": 46,
     "metadata": {},
     "output_type": "execute_result"
    }
   ],
   "source": [
    "df_o.head()"
   ]
  },
  {
   "cell_type": "code",
   "execution_count": 47,
   "id": "2810060d",
   "metadata": {},
   "outputs": [],
   "source": [
    "ordersByUsers = (\n",
    "    df_o.drop(['group', 'revenue', 'date'], axis=1)\n",
    "    .groupby('visitorId', as_index=False)\n",
    "    .agg({'transactionId': pd.Series.nunique})\n",
    ")"
   ]
  },
  {
   "cell_type": "code",
   "execution_count": 48,
   "id": "c000951a",
   "metadata": {},
   "outputs": [],
   "source": [
    "ordersByUsers.columns = ['userId', 'orders']"
   ]
  },
  {
   "cell_type": "code",
   "execution_count": 49,
   "id": "c5ffa691",
   "metadata": {},
   "outputs": [
    {
     "data": {
      "text/html": [
       "<div>\n",
       "<style scoped>\n",
       "    .dataframe tbody tr th:only-of-type {\n",
       "        vertical-align: middle;\n",
       "    }\n",
       "\n",
       "    .dataframe tbody tr th {\n",
       "        vertical-align: top;\n",
       "    }\n",
       "\n",
       "    .dataframe thead th {\n",
       "        text-align: right;\n",
       "    }\n",
       "</style>\n",
       "<table border=\"1\" class=\"dataframe\">\n",
       "  <thead>\n",
       "    <tr style=\"text-align: right;\">\n",
       "      <th></th>\n",
       "      <th>userId</th>\n",
       "      <th>orders</th>\n",
       "    </tr>\n",
       "  </thead>\n",
       "  <tbody>\n",
       "    <tr>\n",
       "      <th>908</th>\n",
       "      <td>3967698036</td>\n",
       "      <td>3</td>\n",
       "    </tr>\n",
       "    <tr>\n",
       "      <th>55</th>\n",
       "      <td>249864742</td>\n",
       "      <td>3</td>\n",
       "    </tr>\n",
       "    <tr>\n",
       "      <th>478</th>\n",
       "      <td>2108163459</td>\n",
       "      <td>3</td>\n",
       "    </tr>\n",
       "    <tr>\n",
       "      <th>687</th>\n",
       "      <td>2988190573</td>\n",
       "      <td>3</td>\n",
       "    </tr>\n",
       "    <tr>\n",
       "      <th>890</th>\n",
       "      <td>3908431265</td>\n",
       "      <td>3</td>\n",
       "    </tr>\n",
       "    <tr>\n",
       "      <th>138</th>\n",
       "      <td>611059232</td>\n",
       "      <td>3</td>\n",
       "    </tr>\n",
       "    <tr>\n",
       "      <th>632</th>\n",
       "      <td>2742574263</td>\n",
       "      <td>3</td>\n",
       "    </tr>\n",
       "    <tr>\n",
       "      <th>157</th>\n",
       "      <td>678354126</td>\n",
       "      <td>2</td>\n",
       "    </tr>\n",
       "    <tr>\n",
       "      <th>323</th>\n",
       "      <td>1404560065</td>\n",
       "      <td>2</td>\n",
       "    </tr>\n",
       "    <tr>\n",
       "      <th>452</th>\n",
       "      <td>1985475298</td>\n",
       "      <td>2</td>\n",
       "    </tr>\n",
       "  </tbody>\n",
       "</table>\n",
       "</div>"
      ],
      "text/plain": [
       "         userId  orders\n",
       "908  3967698036       3\n",
       "55    249864742       3\n",
       "478  2108163459       3\n",
       "687  2988190573       3\n",
       "890  3908431265       3\n",
       "138   611059232       3\n",
       "632  2742574263       3\n",
       "157   678354126       2\n",
       "323  1404560065       2\n",
       "452  1985475298       2"
      ]
     },
     "execution_count": 49,
     "metadata": {},
     "output_type": "execute_result"
    }
   ],
   "source": [
    "ordersByUsers.sort_values(by='orders', ascending=False).head(10)"
   ]
  },
  {
   "cell_type": "code",
   "execution_count": 50,
   "id": "03f0a67f",
   "metadata": {},
   "outputs": [
    {
     "data": {
      "text/plain": [
       "count    973.000000\n",
       "mean       1.044193\n",
       "std        0.238090\n",
       "min        1.000000\n",
       "25%        1.000000\n",
       "50%        1.000000\n",
       "75%        1.000000\n",
       "max        3.000000\n",
       "Name: orders, dtype: float64"
      ]
     },
     "execution_count": 50,
     "metadata": {},
     "output_type": "execute_result"
    }
   ],
   "source": [
    "ordersByUsers['orders'].describe()"
   ]
  },
  {
   "cell_type": "markdown",
   "id": "6259d5d9",
   "metadata": {},
   "source": [
    "There are users with 3 orders. That is more than a regular user as mean is 1.04."
   ]
  },
  {
   "cell_type": "code",
   "execution_count": 51,
   "id": "708bb10f",
   "metadata": {},
   "outputs": [
    {
     "data": {
      "image/png": "[encoded data removed]",
      "text/plain": [
       "<Figure size 432x288 with 1 Axes>"
      ]
     },
     "metadata": {
      "needs_background": "light"
     },
     "output_type": "display_data"
    }
   ],
   "source": [
    "plt.hist(ordersByUsers['orders'])\n",
    "\n",
    "plt.title('Number of orders per user')\n",
    "plt.ylabel('Number of users')\n",
    "plt.xlabel('Number of orders')\n",
    "\n",
    "plt.show()"
   ]
  },
  {
   "cell_type": "markdown",
   "id": "12d1dc8c",
   "metadata": {},
   "source": [
    "Scatter chart with the number of orders per user:"
   ]
  },
  {
   "cell_type": "code",
   "execution_count": 52,
   "id": "84b71c40",
   "metadata": {},
   "outputs": [
    {
     "data": {
      "image/png": "[encoded data removed]",
      "text/plain": [
       "<Figure size 432x288 with 1 Axes>"
      ]
     },
     "metadata": {
      "needs_background": "light"
     },
     "output_type": "display_data"
    }
   ],
   "source": [
    "x_values = pd.Series(range(0,len(ordersByUsers)))\n",
    "\n",
    "plt.scatter(x_values, ordersByUsers['orders'])\n",
    "\n",
    "plt.title('Number of orders per user')\n",
    "plt.ylabel('Number of orders')\n",
    "plt.xlabel('Number of users')\n",
    "plt.show()"
   ]
  },
  {
   "cell_type": "markdown",
   "id": "4a9342f7",
   "metadata": {},
   "source": [
    "There are a lot of users with two to three orders."
   ]
  },
  {
   "cell_type": "markdown",
   "id": "cedcdaeb",
   "metadata": {},
   "source": [
    "### Calculate the 95th and 99th percentiles for the number of orders per user. Define the point at which a data point becomes an anomaly."
   ]
  },
  {
   "cell_type": "code",
   "execution_count": 53,
   "id": "1ba7b99e",
   "metadata": {},
   "outputs": [
    {
     "name": "stdout",
     "output_type": "stream",
     "text": [
      "[1. 1. 2.]\n"
     ]
    }
   ],
   "source": [
    "print(np.percentile(ordersByUsers['orders'], [90, 95, 99]))"
   ]
  },
  {
   "cell_type": "markdown",
   "id": "c484b566",
   "metadata": {},
   "source": [
    "No more than 5% of users placed more than 2 orders, and 10% of users made more than 1.\n",
    "Thus, it would be reasonable to set 2 orders per user as the lower limit for the number of orders and to filter anomalies on that basis."
   ]
  },
  {
   "cell_type": "markdown",
   "id": "3afa2e36",
   "metadata": {},
   "source": [
    "### Plot a scatter chart of order prices. Make conclusions and conjectures."
   ]
  },
  {
   "cell_type": "code",
   "execution_count": 54,
   "id": "84b00dde",
   "metadata": {
    "scrolled": true
   },
   "outputs": [
    {
     "data": {
      "text/html": [
       "<div>\n",
       "<style scoped>\n",
       "    .dataframe tbody tr th:only-of-type {\n",
       "        vertical-align: middle;\n",
       "    }\n",
       "\n",
       "    .dataframe tbody tr th {\n",
       "        vertical-align: top;\n",
       "    }\n",
       "\n",
       "    .dataframe thead th {\n",
       "        text-align: right;\n",
       "    }\n",
       "</style>\n",
       "<table border=\"1\" class=\"dataframe\">\n",
       "  <thead>\n",
       "    <tr style=\"text-align: right;\">\n",
       "      <th></th>\n",
       "      <th>transactionId</th>\n",
       "      <th>visitorId</th>\n",
       "      <th>date</th>\n",
       "      <th>revenue</th>\n",
       "      <th>group</th>\n",
       "    </tr>\n",
       "  </thead>\n",
       "  <tbody>\n",
       "    <tr>\n",
       "      <th>0</th>\n",
       "      <td>3667963787</td>\n",
       "      <td>3312258926</td>\n",
       "      <td>2019-08-15</td>\n",
       "      <td>30.4</td>\n",
       "      <td>B</td>\n",
       "    </tr>\n",
       "    <tr>\n",
       "      <th>1</th>\n",
       "      <td>2804400009</td>\n",
       "      <td>3642806036</td>\n",
       "      <td>2019-08-15</td>\n",
       "      <td>15.2</td>\n",
       "      <td>B</td>\n",
       "    </tr>\n",
       "  </tbody>\n",
       "</table>\n",
       "</div>"
      ],
      "text/plain": [
       "   transactionId   visitorId        date  revenue group\n",
       "0     3667963787  3312258926  2019-08-15     30.4     B\n",
       "1     2804400009  3642806036  2019-08-15     15.2     B"
      ]
     },
     "execution_count": 54,
     "metadata": {},
     "output_type": "execute_result"
    }
   ],
   "source": [
    "df_o.head(2)"
   ]
  },
  {
   "cell_type": "code",
   "execution_count": 55,
   "id": "e750a7ce",
   "metadata": {
    "scrolled": true
   },
   "outputs": [
    {
     "data": {
      "image/png": "[encoded data removed]",
      "text/plain": [
       "<Figure size 432x288 with 1 Axes>"
      ]
     },
     "metadata": {
      "needs_background": "light"
     },
     "output_type": "display_data"
    }
   ],
   "source": [
    "x_values = pd.Series(range(0,len(df_o['revenue'])))\n",
    "plt.scatter(x_values, df_o['revenue'])\n",
    "plt.title('Order prices')\n",
    "plt.ylabel('Price')\n",
    "plt.xlabel('Order')\n",
    "plt.show()"
   ]
  },
  {
   "cell_type": "code",
   "execution_count": 56,
   "id": "4971f2ab",
   "metadata": {},
   "outputs": [
    {
     "data": {
      "image/png": "[encoded data removed]",
      "text/plain": [
       "<Figure size 432x288 with 1 Axes>"
      ]
     },
     "metadata": {
      "needs_background": "light"
     },
     "output_type": "display_data"
    }
   ],
   "source": [
    "x_values = pd.Series(range(0,len(df_o['revenue'])))\n",
    "plt.scatter(x_values, df_o['revenue'])\n",
    "plt.title('Order prices')\n",
    "plt.ylabel('Price')\n",
    "plt.ylim(0,1500)\n",
    "plt.show()"
   ]
  },
  {
   "cell_type": "markdown",
   "id": "3a57447b",
   "metadata": {},
   "source": [
    "There aren't many orders above 2500 There are outliers of about $5000 - 20000."
   ]
  },
  {
   "cell_type": "markdown",
   "id": "175b61fc",
   "metadata": {},
   "source": [
    "### Calculate the 95th and 99th percentiles of order prices. Define the point at which a data point becomes an anomaly."
   ]
  },
  {
   "cell_type": "code",
   "execution_count": 57,
   "id": "d92af59f",
   "metadata": {},
   "outputs": [
    {
     "data": {
      "text/plain": [
       "array([280.8  , 414.275, 830.3  ])"
      ]
     },
     "execution_count": 57,
     "metadata": {},
     "output_type": "execute_result"
    }
   ],
   "source": [
    "np.percentile(df_o['revenue'], [90, 95, 99])"
   ]
  },
  {
   "cell_type": "markdown",
   "id": "155bab5d",
   "metadata": {},
   "source": [
    "\n",
    "Not more than 5% of users placed orders that cost more than 414,3. Not more than 1% placed orders more expensive than 830."
   ]
  },
  {
   "cell_type": "markdown",
   "id": "b4325203",
   "metadata": {},
   "source": [
    "Orders more than 400 should be set as outliers."
   ]
  },
  {
   "cell_type": "markdown",
   "id": "986704f8",
   "metadata": {},
   "source": [
    "### Find the statistical significance of the difference in conversion between the groups using the raw data. Make conclusions and conjectures."
   ]
  },
  {
   "cell_type": "code",
   "execution_count": 58,
   "id": "0d601aa2",
   "metadata": {},
   "outputs": [],
   "source": [
    "df_o['userId'] = df_o['visitorId']"
   ]
  },
  {
   "cell_type": "code",
   "execution_count": 59,
   "id": "d3df9b40",
   "metadata": {},
   "outputs": [
    {
     "data": {
      "text/html": [
       "<div>\n",
       "<style scoped>\n",
       "    .dataframe tbody tr th:only-of-type {\n",
       "        vertical-align: middle;\n",
       "    }\n",
       "\n",
       "    .dataframe tbody tr th {\n",
       "        vertical-align: top;\n",
       "    }\n",
       "\n",
       "    .dataframe thead th {\n",
       "        text-align: right;\n",
       "    }\n",
       "</style>\n",
       "<table border=\"1\" class=\"dataframe\">\n",
       "  <thead>\n",
       "    <tr style=\"text-align: right;\">\n",
       "      <th></th>\n",
       "      <th>transactionId</th>\n",
       "      <th>visitorId</th>\n",
       "      <th>date</th>\n",
       "      <th>revenue</th>\n",
       "      <th>group</th>\n",
       "      <th>userId</th>\n",
       "    </tr>\n",
       "  </thead>\n",
       "  <tbody>\n",
       "    <tr>\n",
       "      <th>0</th>\n",
       "      <td>3667963787</td>\n",
       "      <td>3312258926</td>\n",
       "      <td>2019-08-15</td>\n",
       "      <td>30.4</td>\n",
       "      <td>B</td>\n",
       "      <td>3312258926</td>\n",
       "    </tr>\n",
       "    <tr>\n",
       "      <th>1</th>\n",
       "      <td>2804400009</td>\n",
       "      <td>3642806036</td>\n",
       "      <td>2019-08-15</td>\n",
       "      <td>15.2</td>\n",
       "      <td>B</td>\n",
       "      <td>3642806036</td>\n",
       "    </tr>\n",
       "    <tr>\n",
       "      <th>3</th>\n",
       "      <td>3797467345</td>\n",
       "      <td>1196621759</td>\n",
       "      <td>2019-08-15</td>\n",
       "      <td>155.1</td>\n",
       "      <td>B</td>\n",
       "      <td>1196621759</td>\n",
       "    </tr>\n",
       "  </tbody>\n",
       "</table>\n",
       "</div>"
      ],
      "text/plain": [
       "   transactionId   visitorId        date  revenue group      userId\n",
       "0     3667963787  3312258926  2019-08-15     30.4     B  3312258926\n",
       "1     2804400009  3642806036  2019-08-15     15.2     B  3642806036\n",
       "3     3797467345  1196621759  2019-08-15    155.1     B  1196621759"
      ]
     },
     "execution_count": 59,
     "metadata": {},
     "output_type": "execute_result"
    }
   ],
   "source": [
    "df_o.head(3)"
   ]
  },
  {
   "cell_type": "code",
   "execution_count": 60,
   "id": "51aca694",
   "metadata": {
    "scrolled": true
   },
   "outputs": [
    {
     "data": {
      "text/html": [
       "<div>\n",
       "<style scoped>\n",
       "    .dataframe tbody tr th:only-of-type {\n",
       "        vertical-align: middle;\n",
       "    }\n",
       "\n",
       "    .dataframe tbody tr th {\n",
       "        vertical-align: top;\n",
       "    }\n",
       "\n",
       "    .dataframe thead th {\n",
       "        text-align: right;\n",
       "    }\n",
       "</style>\n",
       "<table border=\"1\" class=\"dataframe\">\n",
       "  <thead>\n",
       "    <tr style=\"text-align: right;\">\n",
       "      <th></th>\n",
       "      <th>date</th>\n",
       "      <th>group</th>\n",
       "      <th>visits</th>\n",
       "    </tr>\n",
       "  </thead>\n",
       "  <tbody>\n",
       "    <tr>\n",
       "      <th>0</th>\n",
       "      <td>2019-08-01</td>\n",
       "      <td>A</td>\n",
       "      <td>719</td>\n",
       "    </tr>\n",
       "    <tr>\n",
       "      <th>1</th>\n",
       "      <td>2019-08-02</td>\n",
       "      <td>A</td>\n",
       "      <td>619</td>\n",
       "    </tr>\n",
       "    <tr>\n",
       "      <th>2</th>\n",
       "      <td>2019-08-03</td>\n",
       "      <td>A</td>\n",
       "      <td>507</td>\n",
       "    </tr>\n",
       "  </tbody>\n",
       "</table>\n",
       "</div>"
      ],
      "text/plain": [
       "         date group  visits\n",
       "0  2019-08-01     A     719\n",
       "1  2019-08-02     A     619\n",
       "2  2019-08-03     A     507"
      ]
     },
     "execution_count": 60,
     "metadata": {},
     "output_type": "execute_result"
    }
   ],
   "source": [
    "df_v.head(3)"
   ]
  },
  {
   "cell_type": "markdown",
   "id": "d8f8bb68",
   "metadata": {},
   "source": [
    "H0: There is no statistically significant difference in conversion between the groups using the raw data\n",
    "\n",
    "H1: There is statistically significant difference in conversion between the groups using the raw data\n",
    "\n",
    "alpha = 0.05"
   ]
  },
  {
   "cell_type": "code",
   "execution_count": 61,
   "id": "d19a86d2",
   "metadata": {},
   "outputs": [],
   "source": [
    "ordersByUsersA = df_o[df_o['group']=='A'].groupby('visitorId', as_index=False).agg({'transactionId' : pd.Series.nunique})\n",
    "ordersByUsersA.columns = ['userId', 'orders']"
   ]
  },
  {
   "cell_type": "code",
   "execution_count": 62,
   "id": "d971f4ea",
   "metadata": {},
   "outputs": [],
   "source": [
    "ordersByUsersB = df_o[df_o['group']=='B'].groupby('visitorId', as_index=False).agg({'transactionId' : pd.Series.nunique})\n",
    "ordersByUsersB.columns = ['userId', 'orders']"
   ]
  },
  {
   "cell_type": "code",
   "execution_count": 63,
   "id": "c850d36c",
   "metadata": {},
   "outputs": [],
   "source": [
    "sampleA = pd.concat([ordersByUsersA['orders'],pd.Series(0, index=np.arange(df_v[df_v['group']=='A']['visits'].sum() - len(ordersByUsersA['orders'])), name='orders')],axis=0)"
   ]
  },
  {
   "cell_type": "code",
   "execution_count": 64,
   "id": "edf396b8",
   "metadata": {},
   "outputs": [],
   "source": [
    "sampleB = pd.concat([ordersByUsersB['orders'],pd.Series(0, index=np.arange(df_v[df_v['group']=='B']['visits'].sum() - len(ordersByUsersB['orders'])), name='orders')],axis=0)"
   ]
  },
  {
   "cell_type": "code",
   "execution_count": 65,
   "id": "6e495b22",
   "metadata": {},
   "outputs": [
    {
     "name": "stdout",
     "output_type": "stream",
     "text": [
      "0.0055\n",
      "0.16\n"
     ]
    }
   ],
   "source": [
    "print(\"{0:.4f}\".format(stats.mannwhitneyu(sampleA, sampleB)[1]))\n",
    "\n",
    "print(\"{0:.2f}\".format(sampleB.mean()/sampleA.mean()-1))"
   ]
  },
  {
   "cell_type": "markdown",
   "id": "c9cc1e98",
   "metadata": {},
   "source": [
    "Conclusion"
   ]
  },
  {
   "cell_type": "markdown",
   "id": "3206963d",
   "metadata": {},
   "source": [
    "The p-value is significsntly lower than alpha (0.05), so we reject the null hypothesis. The\n",
    "raw data analysis showed that the groups' conversion rates have statistically\n",
    "significant differences. The relative conversion gain for group B compared with\n",
    "group A is 16%."
   ]
  },
  {
   "cell_type": "markdown",
   "id": "50e3f45e",
   "metadata": {},
   "source": [
    "### Find the statistical significance of the difference in average order size between the groups using the raw data. Make conclusions and conjectures."
   ]
  },
  {
   "cell_type": "markdown",
   "id": "bbb7b4d4",
   "metadata": {},
   "source": [
    "H0: There is no statistically significant difference in average order size between the groups using the raw data\n",
    "\n",
    "H1: There is statistically significant difference in average order size between the groups using the raw data\n",
    "\n",
    "alpha = 0.05"
   ]
  },
  {
   "cell_type": "code",
   "execution_count": 66,
   "id": "8a307c38",
   "metadata": {},
   "outputs": [
    {
     "data": {
      "text/plain": [
       "'0.431'"
      ]
     },
     "execution_count": 66,
     "metadata": {},
     "output_type": "execute_result"
    }
   ],
   "source": [
    "'{0:.3f}'.format(stats.mannwhitneyu(df_o[df_o['group']=='A']['revenue'], df_o[df_o['group']=='B']['revenue'])[1])\n"
   ]
  },
  {
   "cell_type": "code",
   "execution_count": 67,
   "id": "c716985f",
   "metadata": {},
   "outputs": [
    {
     "data": {
      "text/plain": [
       "'0.278'"
      ]
     },
     "execution_count": 67,
     "metadata": {},
     "output_type": "execute_result"
    }
   ],
   "source": [
    "'{0:.3f}'.format(df_o[df_o['group']=='B']['revenue'].mean()/df_o[df_o['group']=='A']['revenue'].mean()-1)"
   ]
  },
  {
   "cell_type": "markdown",
   "id": "b88b6f64",
   "metadata": {},
   "source": [
    "The p-value is greater than 0.05, so there are no statistically significant differences between the groups' average order sizes. The relative difference is 27.8%."
   ]
  },
  {
   "cell_type": "markdown",
   "id": "0ab7e4d8",
   "metadata": {},
   "source": [
    "### Find the statistical significance of the difference in conversion between the groups using the filtered data. Make conclusions and conjectures.\n"
   ]
  },
  {
   "cell_type": "markdown",
   "id": "85381e40",
   "metadata": {},
   "source": [
    "Filtered data is data after removing anomalies - too expensive orders and users with too many orders. Here it would be reasonable to set 1 orders per user as the lower limit for the number of orders and to filter anomalies on that basis. And orders with revenue more than 400 should be set as outliers."
   ]
  },
  {
   "cell_type": "markdown",
   "id": "5dfebc67",
   "metadata": {},
   "source": [
    "H0: There is no statistically significant difference in average order size between the groups using the filtered data\n",
    "\n",
    "H1: There is statistically significant difference in average order size between the groups using the filtered data\n",
    "\n",
    "alpha = 0.05"
   ]
  },
  {
   "cell_type": "code",
   "execution_count": 68,
   "id": "bb6786d0",
   "metadata": {},
   "outputs": [],
   "source": [
    "usersWithManyOrders = pd.concat([ordersByUsersA[ordersByUsersA['orders'] > 1]['userId'], ordersByUsersB[ordersByUsersB['orders'] > 1]['userId']], axis=0)"
   ]
  },
  {
   "cell_type": "code",
   "execution_count": 69,
   "id": "7730885b",
   "metadata": {},
   "outputs": [],
   "source": [
    "usersWithExpensiveOrders = df_o[df_o['revenue'] > 400]['userId']"
   ]
  },
  {
   "cell_type": "code",
   "execution_count": 70,
   "id": "b07ccb15",
   "metadata": {},
   "outputs": [],
   "source": [
    "abnormalUsers = pd.concat([usersWithManyOrders, usersWithExpensiveOrders], axis=0).drop_duplicates().sort_values()"
   ]
  },
  {
   "cell_type": "code",
   "execution_count": 71,
   "id": "c5115e45",
   "metadata": {},
   "outputs": [
    {
     "data": {
      "text/plain": [
       "568      113298937\n",
       "1099     148427295\n",
       "461      154576532\n",
       "928      204675465\n",
       "33       249864742\n",
       "           ...    \n",
       "940     4003628586\n",
       "723     4009017467\n",
       "430     4109358064\n",
       "743     4133034833\n",
       "507     4134830387\n",
       "Name: userId, Length: 91, dtype: int64"
      ]
     },
     "execution_count": 71,
     "metadata": {},
     "output_type": "execute_result"
    }
   ],
   "source": [
    "abnormalUsers"
   ]
  },
  {
   "cell_type": "code",
   "execution_count": 72,
   "id": "f663c748",
   "metadata": {},
   "outputs": [],
   "source": [
    "sampleAFiltered = pd.concat([ordersByUsersA[np.logical_not(ordersByUsersA['userId'].isin(abnormalUsers))]['orders'],pd.Series(0, index=np.arange(df_v[df_v['group']=='A']['visits'].sum() - len(ordersByUsersA['orders'])), name='orders')], axis=0)"
   ]
  },
  {
   "cell_type": "code",
   "execution_count": 73,
   "id": "2504f39a",
   "metadata": {},
   "outputs": [],
   "source": [
    "sampleBFiltered = pd.concat([ordersByUsersB[np.logical_not(ordersByUsersB['userId'].isin(abnormalUsers))]['orders'],pd.Series(0, index=np.arange(df_v[df_v['group']=='B']['visits'].sum() - len(ordersByUsersB['orders'])), name='orders')], axis=0)"
   ]
  },
  {
   "cell_type": "code",
   "execution_count": 74,
   "id": "b1013e19",
   "metadata": {},
   "outputs": [
    {
     "data": {
      "text/plain": [
       "'0.01'"
      ]
     },
     "execution_count": 74,
     "metadata": {},
     "output_type": "execute_result"
    }
   ],
   "source": [
    "\"{0:.2f}\".format(stats.mannwhitneyu(sampleAFiltered, sampleBFiltered)[1])\n"
   ]
  },
  {
   "cell_type": "code",
   "execution_count": 75,
   "id": "d56ff950",
   "metadata": {},
   "outputs": [
    {
     "data": {
      "text/plain": [
       "'0.167'"
      ]
     },
     "execution_count": 75,
     "metadata": {},
     "output_type": "execute_result"
    }
   ],
   "source": [
    "\"{0:.3f}\".format(sampleBFiltered.mean()/sampleAFiltered.mean()-1)"
   ]
  },
  {
   "cell_type": "markdown",
   "id": "976759ca",
   "metadata": {},
   "source": [
    "Conclusion"
   ]
  },
  {
   "cell_type": "markdown",
   "id": "9b9ee3fe",
   "metadata": {},
   "source": [
    "The p-value is significsntly lower than alpha (0.05), so we reject the null hypothesis. The\n",
    "raw data analysis showed that the groups' conversion rates have statistically\n",
    "significant differences. Segment B is\n",
    "much better than segment A\n"
   ]
  },
  {
   "cell_type": "markdown",
   "id": "1a6feb84",
   "metadata": {},
   "source": [
    "### Find the statistical significance of the difference in average order size between the groups using the filtered data."
   ]
  },
  {
   "cell_type": "markdown",
   "id": "cbfa7e31",
   "metadata": {},
   "source": [
    "H0: There is no statistically significant difference in average order size between the groups using the filtered data\n",
    "\n",
    "H1: There is statistically significant difference in average order size between the groups using the filtered data\n",
    "\n",
    "alpha = 0.05"
   ]
  },
  {
   "cell_type": "code",
   "execution_count": 76,
   "id": "8c8ea99a",
   "metadata": {},
   "outputs": [
    {
     "data": {
      "text/plain": [
       "'0.328'"
      ]
     },
     "execution_count": 76,
     "metadata": {},
     "output_type": "execute_result"
    }
   ],
   "source": [
    "'{0:.3f}'.format(stats.mannwhitneyu(\n",
    "    df_o[np.logical_and(\n",
    "        df_o['group']=='A',\n",
    "        np.logical_not(df_o['userId'].isin(abnormalUsers)))]['revenue'],\n",
    "    df_o[np.logical_and(\n",
    "        df_o['group']=='B',\n",
    "        np.logical_not(df_o['userId'].isin(abnormalUsers)))]['revenue'])[1])\n"
   ]
  },
  {
   "cell_type": "markdown",
   "id": "7be8e971",
   "metadata": {},
   "source": [
    "p-value to compare the average order sizes of the filtered groups"
   ]
  },
  {
   "cell_type": "code",
   "execution_count": 77,
   "id": "ada24550",
   "metadata": {},
   "outputs": [
    {
     "data": {
      "text/plain": [
       "'-0.058'"
      ]
     },
     "execution_count": 77,
     "metadata": {},
     "output_type": "execute_result"
    }
   ],
   "source": [
    "'{0:.3f}'.format(\n",
    "    df_o[np.logical_and(df_o['group']=='B', np.logical_not(df_o['userId'].isin(abnormalUsers)))]['revenue'].mean()/\n",
    "    df_o[np.logical_and(\n",
    "        df_o['group']=='A',\n",
    "        np.logical_not(df_o['userId'].isin(abnormalUsers)))]['revenue'].mean()-1)\n"
   ]
  },
  {
   "cell_type": "markdown",
   "id": "2ff4dafe",
   "metadata": {},
   "source": [
    "group B's relative gain rounded to three decimal places"
   ]
  },
  {
   "cell_type": "markdown",
   "id": "7e0a5c4b",
   "metadata": {},
   "source": [
    "There is a statistically significant difference between the groups' average order sizes"
   ]
  },
  {
   "cell_type": "markdown",
   "id": "2b123ad3",
   "metadata": {},
   "source": [
    "### Make a decision based on the test results. The possible decisions are: 1. Stop the test, consider one of the groups the leader. 2. Stop the test, conclude that there is no difference between the groups. 3. Continue the test.\n"
   ]
  },
  {
   "cell_type": "markdown",
   "id": "50b7f1b5",
   "metadata": {},
   "source": [
    "Suggestion is 'Stop the test, consider one of the groups the leader'. Group B has higher conversion, which means more customers and increases revenue."
   ]
  }
 ],
 "metadata": {
  "ExecuteTimeLog": [
   {
    "duration": 182750,
    "start_time": "2022-01-24T14:13:51.191Z"
   },
   {
    "duration": 1147,
    "start_time": "2022-01-24T14:16:53.944Z"
   },
   {
    "duration": 93,
    "start_time": "2022-01-24T14:16:55.093Z"
   },
   {
    "duration": 1604,
    "start_time": "2022-01-24T14:16:55.188Z"
   },
   {
    "duration": 2624,
    "start_time": "2022-01-24T14:16:56.794Z"
   },
   {
    "duration": -233,
    "start_time": "2022-01-24T14:16:59.655Z"
   },
   {
    "duration": -243,
    "start_time": "2022-01-24T14:16:59.666Z"
   },
   {
    "duration": -252,
    "start_time": "2022-01-24T14:16:59.676Z"
   },
   {
    "duration": -263,
    "start_time": "2022-01-24T14:16:59.688Z"
   },
   {
    "duration": -271,
    "start_time": "2022-01-24T14:16:59.697Z"
   },
   {
    "duration": -279,
    "start_time": "2022-01-24T14:16:59.706Z"
   },
   {
    "duration": -288,
    "start_time": "2022-01-24T14:16:59.717Z"
   },
   {
    "duration": -296,
    "start_time": "2022-01-24T14:16:59.726Z"
   },
   {
    "duration": -305,
    "start_time": "2022-01-24T14:16:59.736Z"
   },
   {
    "duration": -313,
    "start_time": "2022-01-24T14:16:59.745Z"
   },
   {
    "duration": -321,
    "start_time": "2022-01-24T14:16:59.754Z"
   },
   {
    "duration": -329,
    "start_time": "2022-01-24T14:16:59.763Z"
   },
   {
    "duration": -336,
    "start_time": "2022-01-24T14:16:59.772Z"
   },
   {
    "duration": -344,
    "start_time": "2022-01-24T14:16:59.781Z"
   },
   {
    "duration": -352,
    "start_time": "2022-01-24T14:16:59.790Z"
   },
   {
    "duration": -361,
    "start_time": "2022-01-24T14:16:59.800Z"
   },
   {
    "duration": -368,
    "start_time": "2022-01-24T14:16:59.808Z"
   },
   {
    "duration": -377,
    "start_time": "2022-01-24T14:16:59.818Z"
   },
   {
    "duration": -385,
    "start_time": "2022-01-24T14:16:59.827Z"
   },
   {
    "duration": -393,
    "start_time": "2022-01-24T14:16:59.836Z"
   },
   {
    "duration": -401,
    "start_time": "2022-01-24T14:16:59.845Z"
   },
   {
    "duration": -407,
    "start_time": "2022-01-24T14:16:59.853Z"
   },
   {
    "duration": -416,
    "start_time": "2022-01-24T14:16:59.863Z"
   },
   {
    "duration": -424,
    "start_time": "2022-01-24T14:16:59.872Z"
   },
   {
    "duration": -432,
    "start_time": "2022-01-24T14:16:59.881Z"
   },
   {
    "duration": -441,
    "start_time": "2022-01-24T14:16:59.891Z"
   },
   {
    "duration": -448,
    "start_time": "2022-01-24T14:16:59.899Z"
   },
   {
    "duration": -456,
    "start_time": "2022-01-24T14:16:59.908Z"
   },
   {
    "duration": -463,
    "start_time": "2022-01-24T14:16:59.916Z"
   },
   {
    "duration": -471,
    "start_time": "2022-01-24T14:16:59.925Z"
   },
   {
    "duration": -479,
    "start_time": "2022-01-24T14:16:59.935Z"
   },
   {
    "duration": -486,
    "start_time": "2022-01-24T14:16:59.943Z"
   },
   {
    "duration": -492,
    "start_time": "2022-01-24T14:16:59.952Z"
   },
   {
    "duration": -501,
    "start_time": "2022-01-24T14:16:59.962Z"
   },
   {
    "duration": -509,
    "start_time": "2022-01-24T14:16:59.971Z"
   },
   {
    "duration": -518,
    "start_time": "2022-01-24T14:16:59.981Z"
   },
   {
    "duration": -528,
    "start_time": "2022-01-24T14:16:59.992Z"
   },
   {
    "duration": -535,
    "start_time": "2022-01-24T14:17:00.001Z"
   },
   {
    "duration": -543,
    "start_time": "2022-01-24T14:17:00.010Z"
   },
   {
    "duration": -553,
    "start_time": "2022-01-24T14:17:00.021Z"
   },
   {
    "duration": -562,
    "start_time": "2022-01-24T14:17:00.031Z"
   },
   {
    "duration": -570,
    "start_time": "2022-01-24T14:17:00.040Z"
   },
   {
    "duration": -578,
    "start_time": "2022-01-24T14:17:00.049Z"
   },
   {
    "duration": -586,
    "start_time": "2022-01-24T14:17:00.058Z"
   },
   {
    "duration": -594,
    "start_time": "2022-01-24T14:17:00.067Z"
   },
   {
    "duration": -602,
    "start_time": "2022-01-24T14:17:00.076Z"
   },
   {
    "duration": -610,
    "start_time": "2022-01-24T14:17:00.085Z"
   },
   {
    "duration": -618,
    "start_time": "2022-01-24T14:17:00.094Z"
   },
   {
    "duration": -626,
    "start_time": "2022-01-24T14:17:00.103Z"
   },
   {
    "duration": -634,
    "start_time": "2022-01-24T14:17:00.112Z"
   },
   {
    "duration": -642,
    "start_time": "2022-01-24T14:17:00.121Z"
   },
   {
    "duration": -649,
    "start_time": "2022-01-24T14:17:00.129Z"
   },
   {
    "duration": -657,
    "start_time": "2022-01-24T14:17:00.138Z"
   },
   {
    "duration": -664,
    "start_time": "2022-01-24T14:17:00.146Z"
   },
   {
    "duration": -672,
    "start_time": "2022-01-24T14:17:00.155Z"
   },
   {
    "duration": -680,
    "start_time": "2022-01-24T14:17:00.164Z"
   },
   {
    "duration": -687,
    "start_time": "2022-01-24T14:17:00.172Z"
   },
   {
    "duration": -695,
    "start_time": "2022-01-24T14:17:00.181Z"
   },
   {
    "duration": -702,
    "start_time": "2022-01-24T14:17:00.189Z"
   },
   {
    "duration": -710,
    "start_time": "2022-01-24T14:17:00.198Z"
   },
   {
    "duration": -717,
    "start_time": "2022-01-24T14:17:00.206Z"
   },
   {
    "duration": -724,
    "start_time": "2022-01-24T14:17:00.215Z"
   },
   {
    "duration": -731,
    "start_time": "2022-01-24T14:17:00.223Z"
   },
   {
    "duration": -739,
    "start_time": "2022-01-24T14:17:00.232Z"
   },
   {
    "duration": -746,
    "start_time": "2022-01-24T14:17:00.240Z"
   },
   {
    "duration": -753,
    "start_time": "2022-01-24T14:17:00.249Z"
   },
   {
    "duration": -760,
    "start_time": "2022-01-24T14:17:00.257Z"
   },
   {
    "duration": -768,
    "start_time": "2022-01-24T14:17:00.266Z"
   },
   {
    "duration": -776,
    "start_time": "2022-01-24T14:17:00.275Z"
   },
   {
    "duration": -787,
    "start_time": "2022-01-24T14:17:00.287Z"
   },
   {
    "duration": -794,
    "start_time": "2022-01-24T14:17:00.295Z"
   },
   {
    "duration": -803,
    "start_time": "2022-01-24T14:17:00.304Z"
   },
   {
    "duration": -810,
    "start_time": "2022-01-24T14:17:00.312Z"
   },
   {
    "duration": -818,
    "start_time": "2022-01-24T14:17:00.321Z"
   },
   {
    "duration": -826,
    "start_time": "2022-01-24T14:17:00.329Z"
   },
   {
    "duration": -777,
    "start_time": "2022-01-24T14:17:00.338Z"
   },
   {
    "duration": -784,
    "start_time": "2022-01-24T14:17:00.346Z"
   },
   {
    "duration": 24211,
    "start_time": "2022-01-24T15:34:30.443Z"
   },
   {
    "duration": 1414,
    "start_time": "2022-01-24T15:34:54.657Z"
   },
   {
    "duration": 250,
    "start_time": "2022-01-24T15:34:56.074Z"
   },
   {
    "duration": 5,
    "start_time": "2022-01-24T15:34:56.331Z"
   },
   {
    "duration": 2045,
    "start_time": "2022-01-24T15:34:56.339Z"
   },
   {
    "duration": 6,
    "start_time": "2022-01-24T15:34:58.380Z"
   },
   {
    "duration": 18,
    "start_time": "2022-01-24T15:35:24.629Z"
   },
   {
    "duration": 17,
    "start_time": "2022-01-24T15:35:27.112Z"
   },
   {
    "duration": 12,
    "start_time": "2022-01-24T15:35:32.872Z"
   },
   {
    "duration": 13,
    "start_time": "2022-01-24T15:35:34.097Z"
   },
   {
    "duration": 6,
    "start_time": "2022-01-24T15:35:38.875Z"
   },
   {
    "duration": 13,
    "start_time": "2022-01-24T15:35:39.686Z"
   },
   {
    "duration": 700,
    "start_time": "2022-01-24T15:35:43.412Z"
   },
   {
    "duration": 501,
    "start_time": "2022-01-24T15:35:48.793Z"
   },
   {
    "duration": 1875,
    "start_time": "2022-01-24T15:35:53.781Z"
   },
   {
    "duration": 34,
    "start_time": "2022-01-24T15:36:07.843Z"
   },
   {
    "duration": 11,
    "start_time": "2022-01-24T15:36:10.050Z"
   },
   {
    "duration": 9,
    "start_time": "2022-01-24T15:36:11.652Z"
   },
   {
    "duration": 4,
    "start_time": "2022-01-24T15:36:13.986Z"
   },
   {
    "duration": 3,
    "start_time": "2022-01-24T15:36:16.512Z"
   },
   {
    "duration": 18,
    "start_time": "2022-01-24T15:36:17.120Z"
   },
   {
    "duration": 21,
    "start_time": "2022-01-24T15:36:18.443Z"
   },
   {
    "duration": 22,
    "start_time": "2022-01-24T15:36:20.650Z"
   },
   {
    "duration": 11,
    "start_time": "2022-01-24T15:36:21.760Z"
   },
   {
    "duration": 22,
    "start_time": "2022-01-24T15:36:23.333Z"
   },
   {
    "duration": 6,
    "start_time": "2022-01-24T15:36:24.621Z"
   },
   {
    "duration": 7,
    "start_time": "2022-01-24T15:36:25.840Z"
   },
   {
    "duration": 9,
    "start_time": "2022-01-24T15:36:27.045Z"
   },
   {
    "duration": 1864,
    "start_time": "2022-01-24T15:36:32.499Z"
   },
   {
    "duration": 17,
    "start_time": "2022-01-24T15:36:43.431Z"
   },
   {
    "duration": 14,
    "start_time": "2022-01-24T15:36:46.473Z"
   },
   {
    "duration": 11,
    "start_time": "2022-01-24T15:36:48.342Z"
   },
   {
    "duration": 17,
    "start_time": "2022-01-24T15:36:49.261Z"
   },
   {
    "duration": 19,
    "start_time": "2022-01-24T15:36:50.162Z"
   },
   {
    "duration": 3,
    "start_time": "2022-01-24T15:36:50.971Z"
   },
   {
    "duration": 3,
    "start_time": "2022-01-24T15:36:54.225Z"
   },
   {
    "duration": 3,
    "start_time": "2022-01-24T15:36:54.900Z"
   },
   {
    "duration": 8,
    "start_time": "2022-01-24T15:36:55.766Z"
   },
   {
    "duration": 359,
    "start_time": "2022-01-24T15:36:56.736Z"
   },
   {
    "duration": 254,
    "start_time": "2022-01-24T15:36:57.698Z"
   },
   {
    "duration": 8,
    "start_time": "2022-01-24T15:36:58.526Z"
   },
   {
    "duration": 4,
    "start_time": "2022-01-24T15:36:59.408Z"
   },
   {
    "duration": 21,
    "start_time": "2022-01-24T15:37:00.190Z"
   },
   {
    "duration": 10,
    "start_time": "2022-01-24T15:37:00.924Z"
   },
   {
    "duration": 736,
    "start_time": "2022-01-24T15:37:01.735Z"
   },
   {
    "duration": 439,
    "start_time": "2022-01-24T15:37:05.113Z"
   },
   {
    "duration": 9,
    "start_time": "2022-01-24T15:37:10.039Z"
   },
   {
    "duration": 563,
    "start_time": "2022-01-24T15:37:10.800Z"
   },
   {
    "duration": 6,
    "start_time": "2022-01-24T15:37:16.224Z"
   },
   {
    "duration": 10,
    "start_time": "2022-01-24T15:37:16.958Z"
   },
   {
    "duration": 545,
    "start_time": "2022-01-24T15:37:36.687Z"
   },
   {
    "duration": 11,
    "start_time": "2022-01-24T15:37:40.911Z"
   },
   {
    "duration": 524,
    "start_time": "2022-01-24T15:37:41.643Z"
   },
   {
    "duration": 13,
    "start_time": "2022-01-24T15:37:44.207Z"
   },
   {
    "duration": 272,
    "start_time": "2022-01-24T15:37:45.162Z"
   },
   {
    "duration": 4,
    "start_time": "2022-01-24T15:37:46.210Z"
   },
   {
    "duration": 11,
    "start_time": "2022-01-24T15:37:47.155Z"
   },
   {
    "duration": 14,
    "start_time": "2022-01-24T15:37:47.993Z"
   },
   {
    "duration": 466,
    "start_time": "2022-01-24T15:37:49.469Z"
   },
   {
    "duration": 399,
    "start_time": "2022-01-24T15:37:51.739Z"
   },
   {
    "duration": 6,
    "start_time": "2022-01-24T15:37:54.609Z"
   },
   {
    "duration": 16,
    "start_time": "2022-01-24T15:37:57.240Z"
   },
   {
    "duration": 550,
    "start_time": "2022-01-24T15:37:57.941Z"
   },
   {
    "duration": 9,
    "start_time": "2022-01-24T15:38:00.289Z"
   },
   {
    "duration": 28,
    "start_time": "2022-01-24T15:38:03.214Z"
   },
   {
    "duration": 5,
    "start_time": "2022-01-24T15:38:03.889Z"
   },
   {
    "duration": 13,
    "start_time": "2022-01-24T15:38:04.581Z"
   },
   {
    "duration": 11,
    "start_time": "2022-01-24T15:38:05.747Z"
   },
   {
    "duration": 91,
    "start_time": "2022-01-24T15:38:06.560Z"
   },
   {
    "duration": 13,
    "start_time": "2022-01-24T15:38:07.205Z"
   },
   {
    "duration": 109,
    "start_time": "2022-01-24T15:38:08.053Z"
   },
   {
    "duration": 8,
    "start_time": "2022-01-24T15:38:08.747Z"
   },
   {
    "duration": 7,
    "start_time": "2022-01-24T15:38:09.641Z"
   },
   {
    "duration": 12,
    "start_time": "2022-01-24T15:38:10.356Z"
   },
   {
    "duration": 14,
    "start_time": "2022-01-24T15:38:13.026Z"
   },
   {
    "duration": 11,
    "start_time": "2022-01-24T15:38:13.684Z"
   },
   {
    "duration": 8,
    "start_time": "2022-01-24T15:38:16.347Z"
   },
   {
    "duration": 7,
    "start_time": "2022-01-24T15:38:17.018Z"
   },
   {
    "duration": 6,
    "start_time": "2022-01-24T15:38:17.541Z"
   },
   {
    "duration": 8,
    "start_time": "2022-01-24T15:38:18.276Z"
   },
   {
    "duration": 9,
    "start_time": "2022-01-24T15:38:18.994Z"
   },
   {
    "duration": 10,
    "start_time": "2022-01-24T15:38:19.734Z"
   },
   {
    "duration": 11,
    "start_time": "2022-01-24T15:38:20.341Z"
   },
   {
    "duration": 6,
    "start_time": "2022-01-24T15:38:21.067Z"
   },
   {
    "duration": 14,
    "start_time": "2022-01-24T15:38:24.734Z"
   },
   {
    "duration": 15,
    "start_time": "2022-01-24T15:38:30.052Z"
   },
   {
    "duration": 15,
    "start_time": "2022-01-24T15:38:31.356Z"
   },
   {
    "duration": 168396,
    "start_time": "2022-01-25T10:28:28.473Z"
   },
   {
    "duration": 1385,
    "start_time": "2022-01-25T10:31:16.872Z"
   },
   {
    "duration": 105,
    "start_time": "2022-01-25T10:31:18.260Z"
   },
   {
    "duration": 160,
    "start_time": "2022-01-25T10:31:18.368Z"
   },
   {
    "duration": 452,
    "start_time": "2022-01-25T10:31:18.530Z"
   },
   {
    "duration": 700,
    "start_time": "2022-01-25T10:31:18.984Z"
   },
   {
    "duration": 353,
    "start_time": "2022-01-25T10:31:19.686Z"
   },
   {
    "duration": 325,
    "start_time": "2022-01-25T10:31:20.042Z"
   },
   {
    "duration": 405,
    "start_time": "2022-01-25T10:31:20.370Z"
   },
   {
    "duration": 325,
    "start_time": "2022-01-25T10:31:20.777Z"
   },
   {
    "duration": 418,
    "start_time": "2022-01-25T10:31:21.103Z"
   },
   {
    "duration": 376,
    "start_time": "2022-01-25T10:31:21.523Z"
   },
   {
    "duration": 42,
    "start_time": "2022-01-25T10:31:21.901Z"
   },
   {
    "duration": 17,
    "start_time": "2022-01-25T10:31:21.945Z"
   },
   {
    "duration": 15,
    "start_time": "2022-01-25T10:31:21.964Z"
   },
   {
    "duration": 8,
    "start_time": "2022-01-25T10:31:21.982Z"
   },
   {
    "duration": 15,
    "start_time": "2022-01-25T10:31:21.992Z"
   },
   {
    "duration": 23,
    "start_time": "2022-01-25T10:31:22.009Z"
   },
   {
    "duration": 22,
    "start_time": "2022-01-25T10:31:22.034Z"
   },
   {
    "duration": 100,
    "start_time": "2022-01-25T10:31:22.057Z"
   },
   {
    "duration": 29,
    "start_time": "2022-01-25T10:31:22.159Z"
   },
   {
    "duration": 6,
    "start_time": "2022-01-25T10:31:22.190Z"
   },
   {
    "duration": 18,
    "start_time": "2022-01-25T10:31:22.200Z"
   },
   {
    "duration": 43,
    "start_time": "2022-01-25T10:31:22.221Z"
   },
   {
    "duration": 20,
    "start_time": "2022-01-25T10:31:22.267Z"
   },
   {
    "duration": 20,
    "start_time": "2022-01-25T10:31:22.289Z"
   },
   {
    "duration": 13,
    "start_time": "2022-01-25T10:31:22.312Z"
   },
   {
    "duration": 12,
    "start_time": "2022-01-25T10:31:22.328Z"
   },
   {
    "duration": 26,
    "start_time": "2022-01-25T10:31:22.343Z"
   },
   {
    "duration": 38,
    "start_time": "2022-01-25T10:31:22.371Z"
   },
   {
    "duration": 3,
    "start_time": "2022-01-25T10:31:22.412Z"
   },
   {
    "duration": 15,
    "start_time": "2022-01-25T10:31:22.417Z"
   },
   {
    "duration": 13,
    "start_time": "2022-01-25T10:31:22.434Z"
   },
   {
    "duration": 19,
    "start_time": "2022-01-25T10:31:22.450Z"
   },
   {
    "duration": 391,
    "start_time": "2022-01-25T10:31:22.472Z"
   },
   {
    "duration": 271,
    "start_time": "2022-01-25T10:31:22.866Z"
   },
   {
    "duration": 12,
    "start_time": "2022-01-25T10:31:23.140Z"
   },
   {
    "duration": 12,
    "start_time": "2022-01-25T10:31:23.155Z"
   },
   {
    "duration": 22,
    "start_time": "2022-01-25T10:31:23.170Z"
   },
   {
    "duration": 21,
    "start_time": "2022-01-25T10:31:23.194Z"
   },
   {
    "duration": 328,
    "start_time": "2022-01-25T10:31:23.217Z"
   },
   {
    "duration": 423,
    "start_time": "2022-01-25T10:31:23.547Z"
   },
   {
    "duration": 8,
    "start_time": "2022-01-25T10:31:23.972Z"
   },
   {
    "duration": 502,
    "start_time": "2022-01-25T10:31:23.982Z"
   },
   {
    "duration": 4,
    "start_time": "2022-01-25T10:31:24.487Z"
   },
   {
    "duration": 21,
    "start_time": "2022-01-25T10:31:24.493Z"
   },
   {
    "duration": 397,
    "start_time": "2022-01-25T10:31:24.516Z"
   },
   {
    "duration": 9,
    "start_time": "2022-01-25T10:31:24.916Z"
   },
   {
    "duration": 442,
    "start_time": "2022-01-25T10:31:24.928Z"
   },
   {
    "duration": 10,
    "start_time": "2022-01-25T10:31:25.372Z"
   },
   {
    "duration": 152,
    "start_time": "2022-01-25T10:31:25.383Z"
   },
   {
    "duration": 3,
    "start_time": "2022-01-25T10:31:25.537Z"
   },
   {
    "duration": 22,
    "start_time": "2022-01-25T10:31:25.542Z"
   },
   {
    "duration": 17,
    "start_time": "2022-01-25T10:31:25.566Z"
   },
   {
    "duration": 216,
    "start_time": "2022-01-25T10:31:25.585Z"
   },
   {
    "duration": 323,
    "start_time": "2022-01-25T10:31:25.807Z"
   },
   {
    "duration": 5,
    "start_time": "2022-01-25T10:31:26.132Z"
   },
   {
    "duration": 57,
    "start_time": "2022-01-25T10:31:26.138Z"
   },
   {
    "duration": 344,
    "start_time": "2022-01-25T10:31:26.198Z"
   },
   {
    "duration": 5,
    "start_time": "2022-01-25T10:31:26.544Z"
   },
   {
    "duration": 54,
    "start_time": "2022-01-25T10:31:26.551Z"
   },
   {
    "duration": 51,
    "start_time": "2022-01-25T10:31:26.607Z"
   },
   {
    "duration": 57,
    "start_time": "2022-01-25T10:31:26.660Z"
   },
   {
    "duration": 44,
    "start_time": "2022-01-25T10:31:26.719Z"
   },
   {
    "duration": 98,
    "start_time": "2022-01-25T10:31:26.765Z"
   },
   {
    "duration": 28,
    "start_time": "2022-01-25T10:31:26.865Z"
   },
   {
    "duration": 115,
    "start_time": "2022-01-25T10:31:26.896Z"
   },
   {
    "duration": 8,
    "start_time": "2022-01-25T10:31:27.019Z"
   },
   {
    "duration": 200,
    "start_time": "2022-01-25T10:31:27.030Z"
   },
   {
    "duration": 105,
    "start_time": "2022-01-25T10:31:27.232Z"
   },
   {
    "duration": 36,
    "start_time": "2022-01-25T10:31:27.339Z"
   },
   {
    "duration": 52,
    "start_time": "2022-01-25T10:31:27.377Z"
   },
   {
    "duration": 35,
    "start_time": "2022-01-25T10:31:27.431Z"
   },
   {
    "duration": 22,
    "start_time": "2022-01-25T10:31:27.468Z"
   },
   {
    "duration": 31,
    "start_time": "2022-01-25T10:31:27.492Z"
   },
   {
    "duration": 29,
    "start_time": "2022-01-25T10:31:27.525Z"
   },
   {
    "duration": 31,
    "start_time": "2022-01-25T10:31:27.556Z"
   },
   {
    "duration": 38,
    "start_time": "2022-01-25T10:31:27.589Z"
   },
   {
    "duration": 59,
    "start_time": "2022-01-25T10:31:27.629Z"
   },
   {
    "duration": 20,
    "start_time": "2022-01-25T10:31:27.690Z"
   },
   {
    "duration": 38,
    "start_time": "2022-01-25T10:31:27.712Z"
   },
   {
    "duration": 84,
    "start_time": "2022-01-25T10:31:27.752Z"
   },
   {
    "duration": 3,
    "start_time": "2022-01-25T11:47:30.888Z"
   },
   {
    "duration": 3,
    "start_time": "2022-01-25T11:47:39.897Z"
   },
   {
    "duration": 232,
    "start_time": "2022-01-25T11:53:04.947Z"
   },
   {
    "duration": 209060,
    "start_time": "2022-01-25T11:53:09.576Z"
   },
   {
    "duration": 1076,
    "start_time": "2022-01-25T11:56:38.638Z"
   },
   {
    "duration": 139411,
    "start_time": "2022-01-25T12:06:07.602Z"
   },
   {
    "duration": 8,
    "start_time": "2022-01-25T12:08:27.021Z"
   },
   {
    "duration": 61297,
    "start_time": "2022-01-25T12:09:14.046Z"
   },
   {
    "duration": 1068,
    "start_time": "2022-01-25T12:10:15.345Z"
   },
   {
    "duration": 93,
    "start_time": "2022-01-25T12:10:16.415Z"
   },
   {
    "duration": 2,
    "start_time": "2022-01-25T12:10:16.510Z"
   },
   {
    "duration": 8,
    "start_time": "2022-01-25T12:10:16.514Z"
   },
   {
    "duration": 31,
    "start_time": "2022-01-25T12:10:16.523Z"
   },
   {
    "duration": 19,
    "start_time": "2022-01-25T12:10:16.556Z"
   },
   {
    "duration": 11,
    "start_time": "2022-01-25T12:10:16.577Z"
   },
   {
    "duration": 11,
    "start_time": "2022-01-25T12:10:16.590Z"
   },
   {
    "duration": 15,
    "start_time": "2022-01-25T12:10:16.603Z"
   },
   {
    "duration": 14,
    "start_time": "2022-01-25T12:10:16.620Z"
   },
   {
    "duration": 374,
    "start_time": "2022-01-25T12:10:16.635Z"
   },
   {
    "duration": 376,
    "start_time": "2022-01-25T12:10:17.010Z"
   },
   {
    "duration": 47,
    "start_time": "2022-01-25T12:10:17.388Z"
   },
   {
    "duration": 9,
    "start_time": "2022-01-25T12:10:17.436Z"
   },
   {
    "duration": 6,
    "start_time": "2022-01-25T12:10:17.447Z"
   },
   {
    "duration": 3,
    "start_time": "2022-01-25T12:10:17.455Z"
   },
   {
    "duration": 4,
    "start_time": "2022-01-25T12:10:17.460Z"
   },
   {
    "duration": 22,
    "start_time": "2022-01-25T12:10:17.466Z"
   },
   {
    "duration": 14,
    "start_time": "2022-01-25T12:10:17.489Z"
   },
   {
    "duration": 14,
    "start_time": "2022-01-25T12:10:17.505Z"
   },
   {
    "duration": 7,
    "start_time": "2022-01-25T12:10:17.521Z"
   },
   {
    "duration": 4,
    "start_time": "2022-01-25T12:10:17.533Z"
   },
   {
    "duration": 4,
    "start_time": "2022-01-25T12:10:17.540Z"
   },
   {
    "duration": 6,
    "start_time": "2022-01-25T12:10:17.546Z"
   },
   {
    "duration": 7,
    "start_time": "2022-01-25T12:10:17.554Z"
   },
   {
    "duration": 51,
    "start_time": "2022-01-25T12:10:17.562Z"
   },
   {
    "duration": 11,
    "start_time": "2022-01-25T12:10:17.615Z"
   },
   {
    "duration": 9,
    "start_time": "2022-01-25T12:10:17.628Z"
   },
   {
    "duration": 13,
    "start_time": "2022-01-25T12:10:17.638Z"
   },
   {
    "duration": 21,
    "start_time": "2022-01-25T12:10:17.653Z"
   },
   {
    "duration": 4,
    "start_time": "2022-01-25T12:10:17.676Z"
   },
   {
    "duration": 5,
    "start_time": "2022-01-25T12:10:17.682Z"
   },
   {
    "duration": 4,
    "start_time": "2022-01-25T12:10:17.689Z"
   },
   {
    "duration": 10,
    "start_time": "2022-01-25T12:10:17.713Z"
   },
   {
    "duration": 213,
    "start_time": "2022-01-25T12:10:17.725Z"
   },
   {
    "duration": 150,
    "start_time": "2022-01-25T12:10:17.939Z"
   },
   {
    "duration": 7,
    "start_time": "2022-01-25T12:10:18.090Z"
   },
   {
    "duration": 3,
    "start_time": "2022-01-25T12:10:18.113Z"
   },
   {
    "duration": 17,
    "start_time": "2022-01-25T12:10:18.118Z"
   },
   {
    "duration": 7,
    "start_time": "2022-01-25T12:10:18.137Z"
   },
   {
    "duration": 318,
    "start_time": "2022-01-25T12:10:18.146Z"
   },
   {
    "duration": 278,
    "start_time": "2022-01-25T12:10:18.465Z"
   },
   {
    "duration": 6,
    "start_time": "2022-01-25T12:10:18.745Z"
   },
   {
    "duration": 450,
    "start_time": "2022-01-25T12:10:18.753Z"
   },
   {
    "duration": 7,
    "start_time": "2022-01-25T12:10:19.205Z"
   },
   {
    "duration": 5,
    "start_time": "2022-01-25T12:10:19.213Z"
   },
   {
    "duration": 345,
    "start_time": "2022-01-25T12:10:19.219Z"
   },
   {
    "duration": 8,
    "start_time": "2022-01-25T12:10:19.565Z"
   },
   {
    "duration": 441,
    "start_time": "2022-01-25T12:10:19.574Z"
   },
   {
    "duration": 8,
    "start_time": "2022-01-25T12:10:20.017Z"
   },
   {
    "duration": 131,
    "start_time": "2022-01-25T12:10:20.027Z"
   },
   {
    "duration": 2,
    "start_time": "2022-01-25T12:10:20.160Z"
   },
   {
    "duration": 13,
    "start_time": "2022-01-25T12:10:20.164Z"
   },
   {
    "duration": 11,
    "start_time": "2022-01-25T12:10:20.179Z"
   },
   {
    "duration": 211,
    "start_time": "2022-01-25T12:10:20.191Z"
   },
   {
    "duration": 310,
    "start_time": "2022-01-25T12:10:20.404Z"
   },
   {
    "duration": 3,
    "start_time": "2022-01-25T12:10:20.716Z"
   },
   {
    "duration": 10,
    "start_time": "2022-01-25T12:10:20.721Z"
   },
   {
    "duration": 303,
    "start_time": "2022-01-25T12:10:20.732Z"
   },
   {
    "duration": 5,
    "start_time": "2022-01-25T12:10:21.037Z"
   },
   {
    "duration": 4,
    "start_time": "2022-01-25T12:10:21.043Z"
   },
   {
    "duration": 11,
    "start_time": "2022-01-25T12:10:21.049Z"
   },
   {
    "duration": 7,
    "start_time": "2022-01-25T12:10:21.061Z"
   },
   {
    "duration": 83,
    "start_time": "2022-01-25T12:10:21.070Z"
   },
   {
    "duration": 2,
    "start_time": "2022-01-25T12:10:21.155Z"
   },
   {
    "duration": 76,
    "start_time": "2022-01-25T12:10:21.158Z"
   },
   {
    "duration": 5,
    "start_time": "2022-01-25T12:10:21.239Z"
   },
   {
    "duration": 5,
    "start_time": "2022-01-25T12:10:21.246Z"
   },
   {
    "duration": 9,
    "start_time": "2022-01-25T12:10:21.253Z"
   },
   {
    "duration": 7,
    "start_time": "2022-01-25T12:10:21.263Z"
   },
   {
    "duration": 13,
    "start_time": "2022-01-25T12:10:21.271Z"
   },
   {
    "duration": 5,
    "start_time": "2022-01-25T12:10:21.312Z"
   },
   {
    "duration": 6,
    "start_time": "2022-01-25T12:10:21.319Z"
   },
   {
    "duration": 7,
    "start_time": "2022-01-25T12:10:21.326Z"
   },
   {
    "duration": 6,
    "start_time": "2022-01-25T12:10:21.334Z"
   },
   {
    "duration": 6,
    "start_time": "2022-01-25T12:10:21.342Z"
   },
   {
    "duration": 8,
    "start_time": "2022-01-25T12:10:21.349Z"
   },
   {
    "duration": 8,
    "start_time": "2022-01-25T12:10:21.359Z"
   },
   {
    "duration": 45,
    "start_time": "2022-01-25T12:10:21.369Z"
   },
   {
    "duration": 9,
    "start_time": "2022-01-25T12:10:21.416Z"
   },
   {
    "duration": 11,
    "start_time": "2022-01-25T12:10:21.427Z"
   },
   {
    "duration": 304,
    "start_time": "2022-01-25T12:21:22.024Z"
   },
   {
    "duration": 437,
    "start_time": "2022-01-25T12:22:34.507Z"
   },
   {
    "duration": 414,
    "start_time": "2022-01-25T12:23:28.639Z"
   },
   {
    "duration": 510,
    "start_time": "2022-01-25T12:23:48.589Z"
   },
   {
    "duration": 392,
    "start_time": "2022-01-25T12:23:59.220Z"
   },
   {
    "duration": 481,
    "start_time": "2022-01-25T12:24:06.786Z"
   },
   {
    "duration": 533,
    "start_time": "2022-01-25T12:25:32.137Z"
   },
   {
    "duration": 179,
    "start_time": "2022-01-25T12:32:02.276Z"
   },
   {
    "duration": 269,
    "start_time": "2022-01-25T12:34:32.367Z"
   },
   {
    "duration": 265,
    "start_time": "2022-01-25T12:34:44.073Z"
   },
   {
    "duration": 295,
    "start_time": "2022-01-25T12:38:13.683Z"
   },
   {
    "duration": 66,
    "start_time": "2022-01-25T12:39:09.441Z"
   },
   {
    "duration": 324,
    "start_time": "2022-01-25T12:39:17.507Z"
   },
   {
    "duration": 405,
    "start_time": "2022-01-25T12:39:23.537Z"
   },
   {
    "duration": 271,
    "start_time": "2022-01-25T12:40:46.572Z"
   },
   {
    "duration": 269,
    "start_time": "2022-01-25T12:41:11.050Z"
   },
   {
    "duration": 312,
    "start_time": "2022-01-25T12:41:20.296Z"
   },
   {
    "duration": 9,
    "start_time": "2022-01-25T12:56:57.776Z"
   },
   {
    "duration": 56443,
    "start_time": "2022-01-25T12:58:55.123Z"
   },
   {
    "duration": 955,
    "start_time": "2022-01-25T12:59:51.568Z"
   },
   {
    "duration": 91,
    "start_time": "2022-01-25T12:59:52.525Z"
   },
   {
    "duration": 2,
    "start_time": "2022-01-25T12:59:52.618Z"
   },
   {
    "duration": 5,
    "start_time": "2022-01-25T12:59:52.622Z"
   },
   {
    "duration": 16,
    "start_time": "2022-01-25T12:59:52.629Z"
   },
   {
    "duration": 14,
    "start_time": "2022-01-25T12:59:52.647Z"
   },
   {
    "duration": 5,
    "start_time": "2022-01-25T12:59:52.663Z"
   },
   {
    "duration": 9,
    "start_time": "2022-01-25T12:59:52.672Z"
   },
   {
    "duration": 3,
    "start_time": "2022-01-25T12:59:52.683Z"
   },
   {
    "duration": 31,
    "start_time": "2022-01-25T12:59:52.688Z"
   },
   {
    "duration": 356,
    "start_time": "2022-01-25T12:59:52.720Z"
   },
   {
    "duration": 385,
    "start_time": "2022-01-25T12:59:53.077Z"
   },
   {
    "duration": 31,
    "start_time": "2022-01-25T12:59:53.464Z"
   },
   {
    "duration": 8,
    "start_time": "2022-01-25T12:59:53.496Z"
   },
   {
    "duration": 8,
    "start_time": "2022-01-25T12:59:53.505Z"
   },
   {
    "duration": 4,
    "start_time": "2022-01-25T12:59:53.515Z"
   },
   {
    "duration": 6,
    "start_time": "2022-01-25T12:59:53.520Z"
   },
   {
    "duration": 16,
    "start_time": "2022-01-25T12:59:53.528Z"
   },
   {
    "duration": 14,
    "start_time": "2022-01-25T12:59:53.545Z"
   },
   {
    "duration": 12,
    "start_time": "2022-01-25T12:59:53.561Z"
   },
   {
    "duration": 6,
    "start_time": "2022-01-25T12:59:53.575Z"
   },
   {
    "duration": 4,
    "start_time": "2022-01-25T12:59:53.583Z"
   },
   {
    "duration": 3,
    "start_time": "2022-01-25T12:59:53.613Z"
   },
   {
    "duration": 6,
    "start_time": "2022-01-25T12:59:53.618Z"
   },
   {
    "duration": 8,
    "start_time": "2022-01-25T12:59:53.626Z"
   },
   {
    "duration": 14,
    "start_time": "2022-01-25T12:59:53.638Z"
   },
   {
    "duration": 17,
    "start_time": "2022-01-25T12:59:53.654Z"
   },
   {
    "duration": 11,
    "start_time": "2022-01-25T12:59:53.673Z"
   },
   {
    "duration": 13,
    "start_time": "2022-01-25T12:59:53.686Z"
   },
   {
    "duration": 24,
    "start_time": "2022-01-25T12:59:53.700Z"
   },
   {
    "duration": 12,
    "start_time": "2022-01-25T12:59:53.726Z"
   },
   {
    "duration": 5,
    "start_time": "2022-01-25T12:59:53.739Z"
   },
   {
    "duration": 4,
    "start_time": "2022-01-25T12:59:53.745Z"
   },
   {
    "duration": 6,
    "start_time": "2022-01-25T12:59:53.751Z"
   },
   {
    "duration": 204,
    "start_time": "2022-01-25T12:59:53.758Z"
   },
   {
    "duration": 152,
    "start_time": "2022-01-25T12:59:53.963Z"
   },
   {
    "duration": 7,
    "start_time": "2022-01-25T12:59:54.117Z"
   },
   {
    "duration": 5,
    "start_time": "2022-01-25T12:59:54.125Z"
   },
   {
    "duration": 11,
    "start_time": "2022-01-25T12:59:54.131Z"
   },
   {
    "duration": 10,
    "start_time": "2022-01-25T12:59:54.144Z"
   },
   {
    "duration": 383,
    "start_time": "2022-01-25T12:59:54.155Z"
   },
   {
    "duration": 365,
    "start_time": "2022-01-25T12:59:54.539Z"
   },
   {
    "duration": 9,
    "start_time": "2022-01-25T12:59:54.906Z"
   },
   {
    "duration": 477,
    "start_time": "2022-01-25T12:59:54.917Z"
   },
   {
    "duration": 4,
    "start_time": "2022-01-25T12:59:55.395Z"
   },
   {
    "duration": 16,
    "start_time": "2022-01-25T12:59:55.400Z"
   },
   {
    "duration": 379,
    "start_time": "2022-01-25T12:59:55.418Z"
   },
   {
    "duration": 17,
    "start_time": "2022-01-25T12:59:55.799Z"
   },
   {
    "duration": 465,
    "start_time": "2022-01-25T12:59:55.818Z"
   },
   {
    "duration": 8,
    "start_time": "2022-01-25T12:59:56.284Z"
   },
   {
    "duration": 94,
    "start_time": "2022-01-25T12:59:56.294Z"
   },
   {
    "duration": 3,
    "start_time": "2022-01-25T12:59:56.390Z"
   },
   {
    "duration": 19,
    "start_time": "2022-01-25T12:59:56.394Z"
   },
   {
    "duration": 7,
    "start_time": "2022-01-25T12:59:56.414Z"
   },
   {
    "duration": 190,
    "start_time": "2022-01-25T12:59:56.422Z"
   },
   {
    "duration": 317,
    "start_time": "2022-01-25T12:59:56.613Z"
   },
   {
    "duration": 4,
    "start_time": "2022-01-25T12:59:56.932Z"
   },
   {
    "duration": 10,
    "start_time": "2022-01-25T12:59:56.938Z"
   },
   {
    "duration": 286,
    "start_time": "2022-01-25T12:59:56.949Z"
   },
   {
    "duration": 286,
    "start_time": "2022-01-25T12:59:57.236Z"
   },
   {
    "duration": 4,
    "start_time": "2022-01-25T12:59:57.524Z"
   },
   {
    "duration": 5,
    "start_time": "2022-01-25T12:59:57.530Z"
   },
   {
    "duration": 11,
    "start_time": "2022-01-25T12:59:57.536Z"
   },
   {
    "duration": 6,
    "start_time": "2022-01-25T12:59:57.548Z"
   },
   {
    "duration": 85,
    "start_time": "2022-01-25T12:59:57.556Z"
   },
   {
    "duration": 2,
    "start_time": "2022-01-25T12:59:57.643Z"
   },
   {
    "duration": 76,
    "start_time": "2022-01-25T12:59:57.646Z"
   },
   {
    "duration": 5,
    "start_time": "2022-01-25T12:59:57.723Z"
   },
   {
    "duration": 7,
    "start_time": "2022-01-25T12:59:57.729Z"
   },
   {
    "duration": 9,
    "start_time": "2022-01-25T12:59:57.737Z"
   },
   {
    "duration": 6,
    "start_time": "2022-01-25T12:59:57.747Z"
   },
   {
    "duration": 5,
    "start_time": "2022-01-25T12:59:57.755Z"
   },
   {
    "duration": 8,
    "start_time": "2022-01-25T12:59:57.762Z"
   },
   {
    "duration": 6,
    "start_time": "2022-01-25T12:59:57.772Z"
   },
   {
    "duration": 33,
    "start_time": "2022-01-25T12:59:57.779Z"
   },
   {
    "duration": 6,
    "start_time": "2022-01-25T12:59:57.814Z"
   },
   {
    "duration": 7,
    "start_time": "2022-01-25T12:59:57.821Z"
   },
   {
    "duration": 5,
    "start_time": "2022-01-25T12:59:57.829Z"
   },
   {
    "duration": 6,
    "start_time": "2022-01-25T12:59:57.836Z"
   },
   {
    "duration": 4,
    "start_time": "2022-01-25T12:59:57.847Z"
   },
   {
    "duration": 9,
    "start_time": "2022-01-25T12:59:57.852Z"
   },
   {
    "duration": 7,
    "start_time": "2022-01-25T12:59:57.862Z"
   },
   {
    "duration": 539,
    "start_time": "2022-01-25T13:44:13.174Z"
   },
   {
    "duration": 340,
    "start_time": "2022-01-25T13:45:57.527Z"
   }
  ],
  "kernelspec": {
   "display_name": "Python 3",
   "language": "python",
   "name": "python3"
  },
  "language_info": {
   "codemirror_mode": {
    "name": "ipython",
    "version": 3
   },
   "file_extension": ".py",
   "mimetype": "text/x-python",
   "name": "python",
   "nbconvert_exporter": "python",
   "pygments_lexer": "ipython3",
   "version": "3.8.8"
  },
  "toc": {
   "base_numbering": 1,
   "nav_menu": {},
   "number_sections": true,
   "sideBar": true,
   "skip_h1_title": true,
   "title_cell": "Table of Contents",
   "title_sidebar": "Contents",
   "toc_cell": false,
   "toc_position": {},
   "toc_section_display": true,
   "toc_window_display": true
  }
 },
 "nbformat": 4,
 "nbformat_minor": 5
}
